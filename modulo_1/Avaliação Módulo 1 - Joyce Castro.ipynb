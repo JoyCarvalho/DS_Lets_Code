{
 "cells": [
  {
   "cell_type": "markdown",
   "id": "89eb2f9e",
   "metadata": {},
   "source": [
    "**Avaliação Módulo 1 - Turma 814**\n",
    "\n",
    " Aluna: Joyce Castro Carvalho"
   ]
  },
  {
   "cell_type": "markdown",
   "id": "9032a1d8",
   "metadata": {},
   "source": [
    "**- Importação de biliotecas, declaração da base de dados**"
   ]
  },
  {
   "cell_type": "code",
   "execution_count": 2,
   "id": "773c8637",
   "metadata": {
    "ExecuteTime": {
     "end_time": "2021-11-25T02:35:38.161204Z",
     "start_time": "2021-11-25T02:35:37.925833Z"
    }
   },
   "outputs": [
    {
     "data": {
      "text/html": [
       "<style>.container {width:90% !important;}</style>"
      ],
      "text/plain": [
       "<IPython.core.display.HTML object>"
      ]
     },
     "metadata": {},
     "output_type": "display_data"
    },
    {
     "data": {
      "application/javascript": [
       "IPython.notebook.execute_cells_below()"
      ],
      "text/plain": [
       "<IPython.core.display.Javascript object>"
      ]
     },
     "execution_count": 2,
     "metadata": {},
     "output_type": "execute_result"
    }
   ],
   "source": [
    "from IPython.display import clear_output,Javascript,HTML\n",
    "from time import sleep\n",
    "import pandas as pd\n",
    "\n",
    "#bd padrão para entrega do código\n",
    "#base_dados = {'cod':[],'nome':[],'telefone':[],'email':[]}\n",
    "\n",
    "#bd com dados para teste\n",
    "base_dados = {'cod': [1,2,3,4], 'nome': ['Joyce Carvalho',\"Let's Code\",'Banco Santander','Banco Itaú'], 'telefone': ['(62) 98455-5514','(11) 93338-7373','(11) 4004-3535','(11) 4004-4828'], 'email': ['joyce.carvalho@email.com','atendimento@letscode.com.br','atendimento@santander.com.br','atendimento@itau.com.br']}\n",
    "\n",
    "display(HTML(\"<style>.container {width:90% !important;}</style>\"))  # expande tamanho da tela do jupyter\n",
    "Javascript('IPython.notebook.execute_cells_below()')"
   ]
  },
  {
   "cell_type": "markdown",
   "id": "35355624",
   "metadata": {
    "ExecuteTime": {
     "end_time": "2021-10-31T06:32:08.303629Z",
     "start_time": "2021-10-31T06:32:08.293655Z"
    }
   },
   "source": [
    "**- Declaração de funções (auxiliares e interface com usuário)**"
   ]
  },
  {
   "cell_type": "code",
   "execution_count": 3,
   "id": "f782db95",
   "metadata": {
    "ExecuteTime": {
     "end_time": "2021-11-25T02:35:38.221049Z",
     "start_time": "2021-11-25T02:35:38.193120Z"
    }
   },
   "outputs": [],
   "source": [
    "# FUNÇÕES DE VALIDAÇÃO DE DADOS\n",
    "\n",
    "def val_int(msg):\n",
    "    v_in = ''\n",
    "    while v_in.isdigit() == False:\n",
    "        v_in = input(msg)\n",
    "        if v_in.isdigit() == False:\n",
    "            print('   Você não digitou um valor inteiro, tente novamente!')\n",
    "    return v_in\n",
    "\n",
    "def val_sn(msg):\n",
    "    v_in = ''\n",
    "    while v_in not in ('S','N'):\n",
    "        v_in = input(msg).upper()\n",
    "        if v_in not in ('S','N'):\n",
    "            print('   Você precisa digitar s ou n para continuar, tente novamente!')\n",
    "    return v_in\n",
    "\n",
    "def val_nome():\n",
    "    v_in = ''\n",
    "    while v_in.strip() == '' or len(v_in) > 60:\n",
    "        v_in = input('   > Digite o nome do fornecedor: ').strip()\n",
    "        if v_in.strip() == '':\n",
    "            print('   Você precisa digitar um nome para o fornecedor, tente novamente!')\n",
    "        if len(v_in) > 60:\n",
    "            print('   Você ultrapassou o limite de 60 caracteres, tente novamente!')\n",
    "    return v_in\n",
    "\n",
    "def val_tel():\n",
    "    v_in = '0'\n",
    "    while (len(v_in) < 10 or len(v_in) > 11):\n",
    "        v_in = val_int('   > Digite o telefone do fornecedor, com DDD: ')\n",
    "        if (len(v_in) < 10 or len(v_in) > 11):\n",
    "            print('   Você não digitou um telefone válido, o telefone precisa ter 10 ou 11 dígitos, tente novamente!')\n",
    "        else:\n",
    "            if len(v_in) == 11:\n",
    "                v_in = '({}) {}-{}'.format(v_in[0:2],v_in[2:7], v_in[7:])\n",
    "                return v_in\n",
    "            else:\n",
    "                v_in = '({}) {}-{}'.format(v_in[0:2],v_in[2:6], v_in[6:])\n",
    "                return v_in\n",
    "\n",
    "def val_email():\n",
    "    padrao_char = ['.', '_', '-', '@']\n",
    "    padrao_dominio = [['@','.'],['@','.','.']]\n",
    "    erro_char = ['entra no loop']\n",
    "    while len(erro_char) > 0 or len(email) < 10 or len(email) > 60 or (email[-4:] != '.com' and email[-7:-2] != '.com.' and email[-3:-2] != '.') == True or len([c for c in email if c == '@']) > 1 or len([c for c in email if c == '@']) < 1 or list_arroba not in padrao_dominio:\n",
    "        email = input('   > Digite o e-mail do fornecedor: ').lower().strip()\n",
    "        try:\n",
    "            idx_arroba = email.index('@')\n",
    "        except ValueError:\n",
    "            idx_arroba = 404\n",
    "    \n",
    "        if idx_arroba == 404:\n",
    "            list_arroba = ['@','.']\n",
    "        else:\n",
    "            list_arroba = [i for i in email[idx_arroba:] if not i.isalnum()]\n",
    "            \n",
    "        if len(email) < 10:\n",
    "            print('   O e-mail inserido não atingiu o limite mínimo de 10 caracteres')\n",
    "        if len(email) > 60:\n",
    "            print('   O e-mail inserido ultrapassa o limite de 60 caracteres')\n",
    "        erro_char = [char for char in email if not char.isalnum() and char not in padrao_char]\n",
    "        print_erro = list(set(erro_char))\n",
    "        if len(erro_char) > 0:\n",
    "            print(f'   Você digitou um e-mail com carateres {print_erro}, os caracteres permitidos são {padrao_char}')\n",
    "        if (email[-4:] != '.com' and email[-7:-2] != '.com.' and email[-3:-2] != '.') == True:\n",
    "            print('   O e-mail inserido não possui um domínio válido')\n",
    "        if len([c for c in email if c == '@']) > 1:\n",
    "            print('   O e-mail inserido possui mais de 1 @')\n",
    "        if len([c for c in email if c == '@']) < 1:\n",
    "            print('   O e-mail inserido não possui nenhum @')\n",
    "        if list_arroba not in padrao_dominio:\n",
    "            print('   O e-mail inserido não possui um domínio válido')\n",
    "    return email\n",
    "\n",
    "# FUNÇÕES DE INTERFACE COM O USUÁRIO\n",
    "\n",
    "def cadastrar():\n",
    "    print('\\n## Você entrou no CADASTRO de fornecedores\\n')\n",
    "    cod_in = int(val_int('   > Digite o código do fornecedor: '))\n",
    "    if cod_in in base_dados['cod']:\n",
    "        print('   Você não pode cadastrar esse fornecedor, pois ele já existe na base de dados.')\n",
    "        opt_edit = val_sn('   > Deseja editar os dados desse fornecedor? [S/N] ')\n",
    "        if opt_edit == 'S':\n",
    "            editar()\n",
    "    else:\n",
    "        nome = val_nome()\n",
    "        tel = val_tel()\n",
    "        email = val_email()\n",
    "        base_dados['cod'].append(cod_in)\n",
    "        base_dados['nome'].append(nome)\n",
    "        base_dados['telefone'].append(tel)\n",
    "        base_dados['email'].append(email)\n",
    "        print('\\nDados cadastrados !')\n",
    "        \n",
    "def editar():\n",
    "    print('\\n## Você entrou na EDIÇÃO de fornecedores\\n')\n",
    "    cod_in = int(val_int('   > Digite o código do fornecedor: '))\n",
    "    if cod_in not in base_dados['cod']:\n",
    "        print('   Esse fornecedor não está cadastrado.')\n",
    "        opt_cad = val_sn('   Deseja cadastrar os dados desse fornecedor? [S/N] ')\n",
    "        if opt_cad == 'S':\n",
    "            cadastrar()\n",
    "    else:\n",
    "        idx_cod = base_dados['cod'].index(cod_in)\n",
    "        nome = val_nome()\n",
    "        tel = val_tel()\n",
    "        email = val_email()\n",
    "        base_dados['nome'][idx_cod] = nome\n",
    "        base_dados['telefone'][idx_cod] = tel\n",
    "        base_dados['email'][idx_cod] = email\n",
    "        print('\\nDados atualizados! ')\n",
    "\n",
    "def consultar():\n",
    "    print('\\n## Você entrou na CONSULTA de fornecedores\\n')\n",
    "    cod_in = int(val_int('   > Digite o código do fornecedor: '))\n",
    "    if cod_in not in base_dados['cod']:\n",
    "        print('   Esse fornecedor não está cadastrado.')\n",
    "        opt_cad = val_sn('   > Deseja cadastrar esse fornecedor? [S/N] ')\n",
    "        if opt_cad == 'S':\n",
    "            cadastrar()\n",
    "    else:\n",
    "        idx_cod = ( base_dados['cod'].index(cod_in) ) + 1\n",
    "        display(HTML(pd.DataFrame(base_dados)[idx_cod-1:idx_cod].to_html(index=False)))\n",
    "\n",
    "def remover():\n",
    "    print('\\n## Você entrou na EXCLUSÃO de fornecedores\\n')\n",
    "    cod_in = int(val_int('   > Digite o código do fornecedor: '))\n",
    "    if cod_in not in base_dados['cod']:\n",
    "        print('   Esse fornecedor não está cadastrado.')\n",
    "    else:\n",
    "        idx_cod = base_dados['cod'].index(cod_in)\n",
    "        nome = base_dados['nome'][idx_cod]\n",
    "        opt_del = val_sn(f'   > Você tem certeza que deseja excluir os dados do fornecedor: {nome} ? [S/N] ')\n",
    "        if opt_del == 'S':\n",
    "            del base_dados['cod'][idx_cod]\n",
    "            del base_dados['nome'][idx_cod]\n",
    "            del base_dados['telefone'][idx_cod] \n",
    "            del base_dados['email'][idx_cod] \n",
    "            print('\\nDados removidos !')\n",
    "\n",
    "def exportar_excel():\n",
    "    pd.DataFrame(base_dados).to_excel('fornecedores.xlsx')\n",
    "    print('Arquivo Salvo como fornecedores.xlsx')"
   ]
  },
  {
   "cell_type": "code",
   "execution_count": null,
   "id": "0ed35013",
   "metadata": {
    "ExecuteTime": {
     "start_time": "2021-11-25T02:35:38.161Z"
    }
   },
   "outputs": [
    {
     "data": {
      "text/html": [
       "<table border=\"1\" class=\"dataframe\">\n",
       "  <thead>\n",
       "    <tr style=\"text-align: right;\">\n",
       "      <th>cod</th>\n",
       "      <th>nome</th>\n",
       "      <th>telefone</th>\n",
       "      <th>email</th>\n",
       "    </tr>\n",
       "  </thead>\n",
       "  <tbody>\n",
       "    <tr>\n",
       "      <td>1</td>\n",
       "      <td>Joyce Carvalho</td>\n",
       "      <td>(62) 98455-5514</td>\n",
       "      <td>joyce.carvalho@email.com</td>\n",
       "    </tr>\n",
       "    <tr>\n",
       "      <td>2</td>\n",
       "      <td>Let's Code</td>\n",
       "      <td>(11) 93338-7373</td>\n",
       "      <td>atendimento@letscode.com.br</td>\n",
       "    </tr>\n",
       "    <tr>\n",
       "      <td>3</td>\n",
       "      <td>Banco Santander</td>\n",
       "      <td>(11) 4004-3535</td>\n",
       "      <td>atendimento@santander.com.br</td>\n",
       "    </tr>\n",
       "    <tr>\n",
       "      <td>4</td>\n",
       "      <td>Banco Itaú</td>\n",
       "      <td>(11) 4004-4828</td>\n",
       "      <td>atendimento@itau.com.br</td>\n",
       "    </tr>\n",
       "    <tr>\n",
       "      <td>5</td>\n",
       "      <td>asd</td>\n",
       "      <td>(12) 34567-8921</td>\n",
       "      <td>asdasd@mail.com</td>\n",
       "    </tr>\n",
       "  </tbody>\n",
       "</table>"
      ],
      "text/plain": [
       "<IPython.core.display.HTML object>"
      ]
     },
     "metadata": {},
     "output_type": "display_data"
    },
    {
     "data": {
      "text/html": [
       "<div>\n",
       "<style scoped>\n",
       "    .dataframe tbody tr th:only-of-type {\n",
       "        vertical-align: middle;\n",
       "    }\n",
       "\n",
       "    .dataframe tbody tr th {\n",
       "        vertical-align: top;\n",
       "    }\n",
       "\n",
       "    .dataframe thead th {\n",
       "        text-align: right;\n",
       "    }\n",
       "</style>\n",
       "<table border=\"1\" class=\"dataframe\">\n",
       "  <thead>\n",
       "    <tr style=\"text-align: right;\">\n",
       "      <th></th>\n",
       "      <th>Opções</th>\n",
       "    </tr>\n",
       "  </thead>\n",
       "  <tbody>\n",
       "    <tr>\n",
       "      <th>0</th>\n",
       "      <td>Sair</td>\n",
       "    </tr>\n",
       "    <tr>\n",
       "      <th>1</th>\n",
       "      <td>Cadastrar</td>\n",
       "    </tr>\n",
       "    <tr>\n",
       "      <th>2</th>\n",
       "      <td>Editar</td>\n",
       "    </tr>\n",
       "    <tr>\n",
       "      <th>3</th>\n",
       "      <td>Consultar</td>\n",
       "    </tr>\n",
       "    <tr>\n",
       "      <th>4</th>\n",
       "      <td>Remover</td>\n",
       "    </tr>\n",
       "    <tr>\n",
       "      <th>5</th>\n",
       "      <td>Exibir Base</td>\n",
       "    </tr>\n",
       "    <tr>\n",
       "      <th>6</th>\n",
       "      <td>Salvar BD</td>\n",
       "    </tr>\n",
       "  </tbody>\n",
       "</table>\n",
       "</div>"
      ],
      "text/plain": [
       "        Opções\n",
       "0         Sair\n",
       "1    Cadastrar\n",
       "2       Editar\n",
       "3    Consultar\n",
       "4      Remover\n",
       "5  Exibir Base\n",
       "6    Salvar BD"
      ]
     },
     "metadata": {},
     "output_type": "display_data"
    }
   ],
   "source": [
    "# Menu para fluxo de interação com usuário\n",
    "options = {'Opções':['Sair','Cadastrar','Editar','Consultar','Remover','Exibir Base','Salvar BD']}\n",
    "opt = ''\n",
    "while opt != '0':\n",
    "    display(pd.DataFrame(options))\n",
    "    sleep(0.1)\n",
    "    clear_output(wait=True)\n",
    "    opt = input('Selecione a opção desejada: ')\n",
    "    if opt not in ['0','1','2','3','4','5','6']:\n",
    "        print('Você digitou um valor inválido, selecione a opção de 1 a 6, ou 0 para sair.')\n",
    "    elif opt == '1':\n",
    "        cadastrar()\n",
    "    elif opt == '2':\n",
    "        editar()\n",
    "    elif opt == '3':\n",
    "        consultar()\n",
    "    elif opt == '4':\n",
    "        remover()\n",
    "    elif opt == '5':\n",
    "        if len(base_dados['cod']) == 0:\n",
    "            print('Nenhum fornecedor registrado na Base de Dados')\n",
    "        else:\n",
    "            clear_output(wait=True)\n",
    "            display(HTML(pd.DataFrame(base_dados).to_html(index=False)))      \n",
    "    elif opt == '6':\n",
    "        exportar_excel()"
   ]
  },
  {
   "cell_type": "code",
   "execution_count": null,
   "id": "91c9f6e0",
   "metadata": {},
   "outputs": [],
   "source": []
  }
 ],
 "metadata": {
  "kernelspec": {
   "display_name": "Python 3",
   "language": "python",
   "name": "python3"
  },
  "language_info": {
   "codemirror_mode": {
    "name": "ipython",
    "version": 3
   },
   "file_extension": ".py",
   "mimetype": "text/x-python",
   "name": "python",
   "nbconvert_exporter": "python",
   "pygments_lexer": "ipython3",
   "version": "3.8.8"
  },
  "varInspector": {
   "cols": {
    "lenName": 16,
    "lenType": 16,
    "lenVar": 40
   },
   "kernels_config": {
    "python": {
     "delete_cmd_postfix": "",
     "delete_cmd_prefix": "del ",
     "library": "var_list.py",
     "varRefreshCmd": "print(var_dic_list())"
    },
    "r": {
     "delete_cmd_postfix": ") ",
     "delete_cmd_prefix": "rm(",
     "library": "var_list.r",
     "varRefreshCmd": "cat(var_dic_list()) "
    }
   },
   "types_to_exclude": [
    "module",
    "function",
    "builtin_function_or_method",
    "instance",
    "_Feature"
   ],
   "window_display": false
  }
 },
 "nbformat": 4,
 "nbformat_minor": 5
}
