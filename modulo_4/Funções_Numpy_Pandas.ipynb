{
 "cells": [
  {
   "cell_type": "markdown",
   "id": "cd6f3f0b",
   "metadata": {},
   "source": [
    "# Numpy"
   ]
  },
  {
   "cell_type": "code",
   "execution_count": null,
   "id": "56edba16",
   "metadata": {},
   "outputs": [],
   "source": [
    "# mínimo, máximo, média e desvio padrão (Estatística)\n",
    "array.min() | array.max() | array.mean() | array.std()"
   ]
  },
  {
   "cell_type": "code",
   "execution_count": null,
   "id": "f8ff7923",
   "metadata": {},
   "outputs": [],
   "source": [
    "# reshape -  mudar o formato de array para uma matriz\n",
    "np.array([1, 10, 20, 30]).reshape(2, 2)"
   ]
  },
  {
   "cell_type": "code",
   "execution_count": null,
   "id": "6af7ae54",
   "metadata": {},
   "outputs": [],
   "source": [
    "# filtro (Máscara Booleana e Seleção Avançada)\n",
    "array[ref condição] #sintaxe\n",
    "array[array > 10] # maior ou igual\n",
    "array[(array > 10) & (array <= 25)] # operador AND\n",
    "array[(array == 1) | (array > 20)] # operador OU\n",
    "array[~( (array == 1) | (array > 20) )] # operador NOT\n",
    "\n",
    "#seleção de valores com lista de posições\n",
    "a = np.array([1, 2, 3, 4, 5])\n",
    "a[[1, 4]]"
   ]
  },
  {
   "cell_type": "code",
   "execution_count": null,
   "id": "ca24d3a0",
   "metadata": {},
   "outputs": [],
   "source": [
    "# reatribuição de valores com condições\n",
    "\n",
    "array[array < 0] = 0\n",
    "\n",
    "np.where(se condição, recebe valor, se não)\n",
    "np.where(arrayu < 0, 0, array)"
   ]
  },
  {
   "cell_type": "code",
   "execution_count": null,
   "id": "6a3389a3",
   "metadata": {},
   "outputs": [],
   "source": [
    "# valores nulos\n",
    "np.nan # nulo\n",
    "np.isnan(array) # verifica se é nulo\n",
    "np.isnan(a).sum() #s oma nulos"
   ]
  },
  {
   "cell_type": "code",
   "execution_count": null,
   "id": "baa8ae14",
   "metadata": {},
   "outputs": [],
   "source": [
    "# métodos any e all\n",
    "\n",
    ".any() # se qualquer elemento da linha for True, retorna True\n",
    ".all() # todos os elementos tem que ser True para retornar True"
   ]
  },
  {
   "cell_type": "code",
   "execution_count": null,
   "id": "1fd916fc",
   "metadata": {},
   "outputs": [],
   "source": [
    "# Apendar valores\n",
    "\n",
    "np.vstack([array1 , array2]) # Verticalmente\n",
    "np.hstack((array1 , array2)) # Horizontalmente"
   ]
  },
  {
   "cell_type": "code",
   "execution_count": 4,
   "id": "186b08b9",
   "metadata": {
    "ExecuteTime": {
     "end_time": "2022-01-23T17:20:06.493134Z",
     "start_time": "2022-01-23T17:20:06.478175Z"
    }
   },
   "outputs": [],
   "source": [
    "# Números aleatórios\n",
    "\n",
    "np.random()\n",
    "np.random.rand() # Cria um vetor segundo uma distribuição uniforme no intervalo (0,1)\n",
    "np.random.normal() # Cria um vetor em que cada elemento segue uma distribuição normal com  𝜇=10.0  e  𝜎=1.0\n",
    "np.random.randint(low, high, size) # Cria uma matriz de low a high de n(size) elementos\n",
    "np.random.seed(44) # Utilizada para reprodução de modelos utilizando os mesmo valores aleatórios"
   ]
  },
  {
   "cell_type": "code",
   "execution_count": null,
   "id": "513a7275",
   "metadata": {},
   "outputs": [],
   "source": [
    "# Inicializar arrays com funções built-in: zeros, ones, full, full_like\n",
    "\n",
    "np.zeros(1) | np.zeros((2,3)) | np.zeros((2, 2, 3))  # Cria um array de determinado tamanho contendo zeros\n",
    "np.ones((4, 2, 2), dtype='int32') # Cria um array de determinado tamanho contendo 1\n",
    "np.ones((2, 2)) * 10 | np.full((2, 2), 10) # Cria um array de determinado tamanho contendo 1 * número \n",
    "np.full((2, 2), 99) # Cria uma matriz de qualquer número fazendo a operação\n",
    "np.full_like(array_referencia, 4) # Qualquer outro número copiando o formato de uma matriz existente"
   ]
  },
  {
   "cell_type": "code",
   "execution_count": null,
   "id": "08a46293",
   "metadata": {},
   "outputs": [],
   "source": [
    "# Criar array de um intervalo\n",
    "np.arange(start, stop, step) >> np.arange(0, 10) >> np.arange(0, 10, 2)\n",
    "np.linspace(0, 100, num=10, retstep=True)\n",
    "np.logspace(0, 100, num=10, base=2.0)"
   ]
  },
  {
   "cell_type": "code",
   "execution_count": null,
   "id": "45f8fd64",
   "metadata": {},
   "outputs": [],
   "source": [
    "# Funções matemáticas\n",
    "np.sin(a) # seno\n",
    "np.cos(a) # cosseno\n",
    "np.exp(a) # exponencial\n",
    "np.log(a) # log\n",
    "\n",
    "np.matmul(a, b) | a @ b # multiplicação de matrizes"
   ]
  },
  {
   "cell_type": "code",
   "execution_count": null,
   "id": "a235127f",
   "metadata": {},
   "outputs": [],
   "source": [
    "# Carregar / Ler dados de um arquivo\n",
    "\n",
    "filedata = np.genfromtxt('data.txt', delimiter=',')\n",
    "np.save('data_saved', filedata.astype('int32'))\n",
    "np.load('data_saved.npy')\n",
    "\n",
    "url = 'https://archive.ics.uci.edu/ml/machine-learning-databases/iris/iris.data'\n",
    "iris = np.genfromtxt(url, delimiter=',', dtype='float', usecols=[0,1,2,3])"
   ]
  },
  {
   "cell_type": "markdown",
   "id": "c09d6b34",
   "metadata": {},
   "source": [
    "# Pandas"
   ]
  },
  {
   "cell_type": "code",
   "execution_count": null,
   "id": "4e14b60a",
   "metadata": {},
   "outputs": [],
   "source": [
    "# ler base\n",
    "tabela = pd.read_csv('./data/alunos.csv', sep=';', names=['col1', 'col2'])\n",
    "\n",
    "# Essa função cria um data frame através dos dados da área de transferência\n",
    "df = pd.read_clipboard()"
   ]
  },
  {
   "cell_type": "code",
   "execution_count": null,
   "id": "00992009",
   "metadata": {},
   "outputs": [],
   "source": [
    "# criar colunas\n",
    "tabela['valor_1'] = 1\n",
    "tabela['nans'] = np.nan\n",
    "\n",
    "#criar linhas\n",
    "tabela.loc[10, :] = [1234, 'Nome', 'valor col3', 'valor col4']"
   ]
  },
  {
   "cell_type": "markdown",
   "id": "ec9cd31f",
   "metadata": {},
   "source": [
    "### Merge | Join's"
   ]
  },
  {
   "cell_type": "code",
   "execution_count": null,
   "id": "f581fb24",
   "metadata": {},
   "outputs": [],
   "source": [
    "municipio = municipio.merge(dengue, how='left', on='id_municipio')\n",
    "df = pd.merge(df,df2[['Key_Column','Target_Column']],on='Key_Column', how='left')"
   ]
  },
  {
   "cell_type": "markdown",
   "id": "ba5cc0f4",
   "metadata": {},
   "source": [
    "### Selecionar valores / Busca com condições"
   ]
  },
  {
   "cell_type": "code",
   "execution_count": null,
   "id": "f55e43c0",
   "metadata": {},
   "outputs": [],
   "source": [
    "# selecionando colunas\n",
    "tabela.Nome      # seleciona em formato series\n",
    "tabela['Nome']   # seleciona em formato series\n",
    "tabela[['Col_1','Col_2']] #seleciona em formato df"
   ]
  },
  {
   "cell_type": "code",
   "execution_count": null,
   "id": "2204827e",
   "metadata": {},
   "outputs": [],
   "source": [
    "# selecionar linhas específicas\n",
    ".loc[nome_linhas, nome_colunas]\n",
    "tabela.loc[1, ['Nome','Prova_1']]\n",
    "#O .loc faz o slice considerando o index da matriz, se o index for um nome de coluna é necessário informar o nome n1:n3"
   ]
  },
  {
   "cell_type": "code",
   "execution_count": null,
   "id": "96c4e85b",
   "metadata": {},
   "outputs": [],
   "source": [
    "# selecionar valores específicos usando uma coluna com filtro aplicado\n",
    "dataframe.loc[dataframe['Coluna'] == 'Valor da Linha']\n",
    "# retornando apenas colunas específicas\n",
    "dataframe.loc[dataframe['Coluna'] == 'Valor da Linha', ['col_1', 'col_2', 'col_4']]"
   ]
  },
  {
   "cell_type": "code",
   "execution_count": null,
   "id": "cb2e8b1f",
   "metadata": {},
   "outputs": [],
   "source": [
    "# O iloc diferente do loc seleciona o índice numérico da linha : coluna\n",
    ".iloc[número_linhas, número_colunas]\n",
    "# seleciona um conjunto de linhas sequenciais de um conjunto de colunas não sequenciais\n",
    "tabela.iloc[3:5, [1,5]]"
   ]
  },
  {
   "cell_type": "code",
   "execution_count": null,
   "id": "a0157a6c",
   "metadata": {},
   "outputs": [],
   "source": [
    "pd.isin()\n",
    "tabela[tabela['Nome'].isin(['Ana Beatriz', 'Francisco Cunha'])]\n",
    "\n",
    ".str.contains()\n",
    "tabela[tabela['Nome'].str.contains('J')]"
   ]
  },
  {
   "cell_type": "code",
   "execution_count": null,
   "id": "57d5e2c5",
   "metadata": {},
   "outputs": [],
   "source": [
    "#Filtro com função de agregação\n",
    "df.groupby(['Pclass','Sex']).filter(lambda x: x['Age'].mean()>30)"
   ]
  },
  {
   "cell_type": "markdown",
   "id": "48132c17",
   "metadata": {},
   "source": [
    "### Localizar e Substituir"
   ]
  },
  {
   "cell_type": "code",
   "execution_count": null,
   "id": "dfd1ff15",
   "metadata": {},
   "outputs": [],
   "source": [
    "na_sale.loc[na_sale['%'] < 0.05,'Publisher'] = 'Others'"
   ]
  },
  {
   "cell_type": "markdown",
   "id": "294aad35",
   "metadata": {},
   "source": [
    "### Funções de agregações"
   ]
  },
  {
   "cell_type": "code",
   "execution_count": null,
   "id": "aef45046",
   "metadata": {},
   "outputs": [],
   "source": [
    "titanic.groupby(['Embarked'])[['Survived']].mean()\n",
    "titanic.groupby(['Embarked', 'Pclass'])[['Survived','Age']].agg(['mean','count'])\n",
    "\n",
    "sex = heart.groupby([\"sex\", \"DEATH_EVENT\"])[[\"sex\"]].count()\n",
    "sex['proporcao'] = heart.groupby([\"sex\", \"DEATH_EVENT\"])[[\"sex\"]].count() / heart.groupby([\"sex\"])[[\"sex\"]].count()"
   ]
  },
  {
   "cell_type": "markdown",
   "id": "c41db173",
   "metadata": {},
   "source": [
    "#### Função de agregação com filtros"
   ]
  },
  {
   "cell_type": "code",
   "execution_count": null,
   "id": "9a28e87c",
   "metadata": {},
   "outputs": [],
   "source": [
    "df[df['Pclass']==2].Fare.mean()"
   ]
  },
  {
   "cell_type": "code",
   "execution_count": null,
   "id": "20f7c489",
   "metadata": {},
   "outputs": [],
   "source": [
    "#filtro utilizado através de parâmetro inserido no for\n",
    "for i in df.Pclass.sort_values().unique():\n",
    "    print(f'Ticket médio da classe {i}: ', df[df['Pclass']==i].Fare.mean())"
   ]
  },
  {
   "cell_type": "markdown",
   "id": "af275f94",
   "metadata": {},
   "source": [
    "### Outras funções"
   ]
  },
  {
   "cell_type": "code",
   "execution_count": null,
   "id": "f83f5566",
   "metadata": {},
   "outputs": [],
   "source": [
    "# Reseta e seta index\n",
    ".reset_index() | tabela.set_index('RA', inplace=True)"
   ]
  },
  {
   "cell_type": "code",
   "execution_count": null,
   "id": "0eee7a51",
   "metadata": {},
   "outputs": [],
   "source": [
    ".sort_values()\n",
    ".sort_values(by = 'Nome coluna')"
   ]
  },
  {
   "cell_type": "code",
   "execution_count": null,
   "id": "d14d4580",
   "metadata": {},
   "outputs": [],
   "source": [
    "#renomear colunas\n",
    "df.rename({'passengerid':'passenger_id', 'pclass':'p_class'}, axis=1, inplace=True)"
   ]
  },
  {
   "cell_type": "code",
   "execution_count": null,
   "id": "955ed20d",
   "metadata": {},
   "outputs": [],
   "source": [
    "#aplicar transformações em colunas\n",
    "df.columns = [col.lower() for col in df.columns]"
   ]
  },
  {
   "cell_type": "code",
   "execution_count": null,
   "id": "7b2e67a4",
   "metadata": {},
   "outputs": [],
   "source": [
    "#contagem de valores núlos\n",
    "df.isna().sum()"
   ]
  },
  {
   "cell_type": "code",
   "execution_count": null,
   "id": "9f0d819d",
   "metadata": {},
   "outputs": [],
   "source": [
    "# dropar colunas\n",
    "df.drop(['Coluna1', 'Coluna2'],inplace=True,axis=1)"
   ]
  },
  {
   "cell_type": "code",
   "execution_count": null,
   "id": "a4500b4d",
   "metadata": {},
   "outputs": [],
   "source": [
    "# Remove duplicadas, nesse caso seleciona 2 colunas para comparação de duplicadas\n",
    "# e o parâmetro keep = last mantém os últimos valores (padrão = first)\n",
    "df_exerc.drop_duplicates(subset=['brand','style'],keep = 'last')"
   ]
  },
  {
   "cell_type": "code",
   "execution_count": null,
   "id": "79938968",
   "metadata": {},
   "outputs": [],
   "source": [
    "pd.to_numeric(s, downcast='integer')"
   ]
  },
  {
   "cell_type": "code",
   "execution_count": null,
   "id": "6daa7406",
   "metadata": {},
   "outputs": [],
   "source": [
    "# Classifica dados de acordo com intervalo\n",
    "df['classificacao'] = pd.cut(df['imc']\n",
    "                             ,bins=[0,18.5,24.9,29.9,39.9,np.inf]\n",
    "                             ,labels = ['Subpeso','Normal','Sobrepeso','Obesidade Grau I','Obesidade Grau II']\n",
    "                            )"
   ]
  }
 ],
 "metadata": {
  "kernelspec": {
   "display_name": "Python 3",
   "language": "python",
   "name": "python3"
  },
  "language_info": {
   "codemirror_mode": {
    "name": "ipython",
    "version": 3
   },
   "file_extension": ".py",
   "mimetype": "text/x-python",
   "name": "python",
   "nbconvert_exporter": "python",
   "pygments_lexer": "ipython3",
   "version": "3.8.8"
  },
  "varInspector": {
   "cols": {
    "lenName": 16,
    "lenType": 16,
    "lenVar": 40
   },
   "kernels_config": {
    "python": {
     "delete_cmd_postfix": "",
     "delete_cmd_prefix": "del ",
     "library": "var_list.py",
     "varRefreshCmd": "print(var_dic_list())"
    },
    "r": {
     "delete_cmd_postfix": ") ",
     "delete_cmd_prefix": "rm(",
     "library": "var_list.r",
     "varRefreshCmd": "cat(var_dic_list()) "
    }
   },
   "types_to_exclude": [
    "module",
    "function",
    "builtin_function_or_method",
    "instance",
    "_Feature"
   ],
   "window_display": false
  }
 },
 "nbformat": 4,
 "nbformat_minor": 5
}
