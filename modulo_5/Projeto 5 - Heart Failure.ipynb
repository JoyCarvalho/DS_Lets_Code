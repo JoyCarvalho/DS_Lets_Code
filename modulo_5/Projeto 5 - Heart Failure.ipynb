{
 "cells": [
  {
   "cell_type": "markdown",
   "id": "ea7e9b5b",
   "metadata": {},
   "source": [
    "## Heart Failure\n",
    "\n",
    "Dataset: https://www.kaggle.com/andrewmvd/heart-failure-clinical-data\n",
    "\n",
    "Features: https://archive.ics.uci.edu/ml/datasets/Heart+failure+clinical+records\n",
    "\n",
    "Artigo: https://bmcmedinformdecismak.biomedcentral.com/articles/10.1186/s12911-020-1023-5\n",
    "\n",
    "Cardiovascular diseases (CVDs) are the number 1 cause of death globally, taking an estimated 17.9 million lives each year, which accounts for 31% of all deaths worlwide.\n",
    "Heart failure is a common event caused by CVDs and this dataset contains 12 features that can be used to predict mortality by heart failure.\n",
    "\n",
    "Most cardiovascular diseases can be prevented by addressing behavioural risk factors such as tobacco use, unhealthy diet and obesity, physical inactivity and harmful use of alcohol using population-wide strategies.\n",
    "\n",
    "People with cardiovascular disease or who are at high cardiovascular risk (due to the presence of one or more risk factors such as hypertension, diabetes, hyperlipidaemia or already established disease) need early detection and management wherein a machine learning model can be of great help.\n",
    "\n",
    "\n",
    "### Features [1]:\n",
    "- age: age of the patient (years)\n",
    "- anaemia: decrease of red blood cells or hemoglobin (boolean) - **{0: False, 1: True}**\n",
    "- high blood pressure: if the patient has hypertension (boolean) - **{0: False, 1: True}**\n",
    "- creatinine phosphokinase (CPK): level of the CPK enzyme in the blood (mcg/L) - **entre 6000 - 13000**\n",
    "- diabetes: if the patient has diabetes (boolean) - **{0: False, 1: True}**\n",
    "- ejection fraction: percentage of blood leaving the heart at each contraction (percentage)\n",
    "- platelets: platelets in the blood (kiloplatelets/mL)\n",
    "- sex: woman or man (binary) - **{0: \"Woman\", 1: \"Man\"}**\n",
    "- serum creatinine: level of serum creatinine in the blood (mg/dL)\n",
    "- serum sodium: level of serum sodium in the blood (mEq/L)\n",
    "- smoking: if the patient smokes or not (boolean) - **{0: False, 1: True}**\n",
    "- time: follow-up period (days) - **Período de acompanhamento**\n",
    "- [target] death event: if the patient deceased during the follow-up period (boolean) - **{0: False, 1: True}**"
   ]
  },
  {
   "cell_type": "code",
   "execution_count": 1,
   "id": "0b50ecc2",
   "metadata": {
    "ExecuteTime": {
     "end_time": "2022-02-21T21:39:09.651250Z",
     "start_time": "2022-02-21T21:39:07.738792Z"
    }
   },
   "outputs": [],
   "source": [
    "import numpy as np\n",
    "import pandas as pd\n",
    "import matplotlib.pyplot as plt\n",
    "import plotly.express as px\n",
    "from plotly.subplots import make_subplots\n",
    "import seaborn as sns"
   ]
  },
  {
   "cell_type": "markdown",
   "id": "ce5d3693",
   "metadata": {},
   "source": [
    "---"
   ]
  },
  {
   "cell_type": "markdown",
   "id": "5dcda901",
   "metadata": {},
   "source": [
    "## Base de dados"
   ]
  },
  {
   "cell_type": "code",
   "execution_count": 2,
   "id": "1f7b7754",
   "metadata": {
    "ExecuteTime": {
     "end_time": "2022-02-21T21:39:09.697128Z",
     "start_time": "2022-02-21T21:39:09.667207Z"
    }
   },
   "outputs": [
    {
     "data": {
      "text/html": [
       "<div>\n",
       "<style scoped>\n",
       "    .dataframe tbody tr th:only-of-type {\n",
       "        vertical-align: middle;\n",
       "    }\n",
       "\n",
       "    .dataframe tbody tr th {\n",
       "        vertical-align: top;\n",
       "    }\n",
       "\n",
       "    .dataframe thead th {\n",
       "        text-align: right;\n",
       "    }\n",
       "</style>\n",
       "<table border=\"1\" class=\"dataframe\">\n",
       "  <thead>\n",
       "    <tr style=\"text-align: right;\">\n",
       "      <th></th>\n",
       "      <th>age</th>\n",
       "      <th>anaemia</th>\n",
       "      <th>creatinine_phosphokinase</th>\n",
       "      <th>diabetes</th>\n",
       "      <th>ejection_fraction</th>\n",
       "      <th>high_blood_pressure</th>\n",
       "      <th>platelets</th>\n",
       "      <th>serum_creatinine</th>\n",
       "      <th>serum_sodium</th>\n",
       "      <th>sex</th>\n",
       "      <th>smoking</th>\n",
       "      <th>time</th>\n",
       "      <th>DEATH_EVENT</th>\n",
       "    </tr>\n",
       "  </thead>\n",
       "  <tbody>\n",
       "    <tr>\n",
       "      <th>0</th>\n",
       "      <td>75.0</td>\n",
       "      <td>0</td>\n",
       "      <td>582</td>\n",
       "      <td>0</td>\n",
       "      <td>20</td>\n",
       "      <td>1</td>\n",
       "      <td>265000.00</td>\n",
       "      <td>1.9</td>\n",
       "      <td>130</td>\n",
       "      <td>1</td>\n",
       "      <td>0</td>\n",
       "      <td>4</td>\n",
       "      <td>1</td>\n",
       "    </tr>\n",
       "    <tr>\n",
       "      <th>1</th>\n",
       "      <td>55.0</td>\n",
       "      <td>0</td>\n",
       "      <td>7861</td>\n",
       "      <td>0</td>\n",
       "      <td>38</td>\n",
       "      <td>0</td>\n",
       "      <td>263358.03</td>\n",
       "      <td>1.1</td>\n",
       "      <td>136</td>\n",
       "      <td>1</td>\n",
       "      <td>0</td>\n",
       "      <td>6</td>\n",
       "      <td>1</td>\n",
       "    </tr>\n",
       "    <tr>\n",
       "      <th>2</th>\n",
       "      <td>65.0</td>\n",
       "      <td>0</td>\n",
       "      <td>146</td>\n",
       "      <td>0</td>\n",
       "      <td>20</td>\n",
       "      <td>0</td>\n",
       "      <td>162000.00</td>\n",
       "      <td>1.3</td>\n",
       "      <td>129</td>\n",
       "      <td>1</td>\n",
       "      <td>1</td>\n",
       "      <td>7</td>\n",
       "      <td>1</td>\n",
       "    </tr>\n",
       "    <tr>\n",
       "      <th>3</th>\n",
       "      <td>50.0</td>\n",
       "      <td>1</td>\n",
       "      <td>111</td>\n",
       "      <td>0</td>\n",
       "      <td>20</td>\n",
       "      <td>0</td>\n",
       "      <td>210000.00</td>\n",
       "      <td>1.9</td>\n",
       "      <td>137</td>\n",
       "      <td>1</td>\n",
       "      <td>0</td>\n",
       "      <td>7</td>\n",
       "      <td>1</td>\n",
       "    </tr>\n",
       "    <tr>\n",
       "      <th>4</th>\n",
       "      <td>65.0</td>\n",
       "      <td>1</td>\n",
       "      <td>160</td>\n",
       "      <td>1</td>\n",
       "      <td>20</td>\n",
       "      <td>0</td>\n",
       "      <td>327000.00</td>\n",
       "      <td>2.7</td>\n",
       "      <td>116</td>\n",
       "      <td>0</td>\n",
       "      <td>0</td>\n",
       "      <td>8</td>\n",
       "      <td>1</td>\n",
       "    </tr>\n",
       "  </tbody>\n",
       "</table>\n",
       "</div>"
      ],
      "text/plain": [
       "    age  anaemia  creatinine_phosphokinase  diabetes  ejection_fraction  \\\n",
       "0  75.0        0                       582         0                 20   \n",
       "1  55.0        0                      7861         0                 38   \n",
       "2  65.0        0                       146         0                 20   \n",
       "3  50.0        1                       111         0                 20   \n",
       "4  65.0        1                       160         1                 20   \n",
       "\n",
       "   high_blood_pressure  platelets  serum_creatinine  serum_sodium  sex  \\\n",
       "0                    1  265000.00               1.9           130    1   \n",
       "1                    0  263358.03               1.1           136    1   \n",
       "2                    0  162000.00               1.3           129    1   \n",
       "3                    0  210000.00               1.9           137    1   \n",
       "4                    0  327000.00               2.7           116    0   \n",
       "\n",
       "   smoking  time  DEATH_EVENT  \n",
       "0        0     4            1  \n",
       "1        0     6            1  \n",
       "2        1     7            1  \n",
       "3        0     7            1  \n",
       "4        0     8            1  "
      ]
     },
     "execution_count": 2,
     "metadata": {},
     "output_type": "execute_result"
    }
   ],
   "source": [
    "# Raw data\n",
    "heart = pd.read_csv(\"heart_failure_dataset.csv\")\n",
    "heart.head()"
   ]
  },
  {
   "cell_type": "markdown",
   "id": "b0ad8b3f",
   "metadata": {},
   "source": [
    "----"
   ]
  },
  {
   "cell_type": "markdown",
   "id": "98881a07",
   "metadata": {},
   "source": [
    "## Descrever os dados"
   ]
  },
  {
   "cell_type": "code",
   "execution_count": 3,
   "id": "81c7b7ec",
   "metadata": {
    "ExecuteTime": {
     "end_time": "2022-02-21T21:39:11.717506Z",
     "start_time": "2022-02-21T21:39:11.690574Z"
    }
   },
   "outputs": [
    {
     "name": "stdout",
     "output_type": "stream",
     "text": [
      "<class 'pandas.core.frame.DataFrame'>\n",
      "RangeIndex: 299 entries, 0 to 298\n",
      "Data columns (total 13 columns):\n",
      " #   Column                    Non-Null Count  Dtype  \n",
      "---  ------                    --------------  -----  \n",
      " 0   age                       299 non-null    float64\n",
      " 1   anaemia                   299 non-null    int64  \n",
      " 2   creatinine_phosphokinase  299 non-null    int64  \n",
      " 3   diabetes                  299 non-null    int64  \n",
      " 4   ejection_fraction         299 non-null    int64  \n",
      " 5   high_blood_pressure       299 non-null    int64  \n",
      " 6   platelets                 299 non-null    float64\n",
      " 7   serum_creatinine          299 non-null    float64\n",
      " 8   serum_sodium              299 non-null    int64  \n",
      " 9   sex                       299 non-null    int64  \n",
      " 10  smoking                   299 non-null    int64  \n",
      " 11  time                      299 non-null    int64  \n",
      " 12  DEATH_EVENT               299 non-null    int64  \n",
      "dtypes: float64(3), int64(10)\n",
      "memory usage: 30.5 KB\n"
     ]
    }
   ],
   "source": [
    "heart.info()"
   ]
  },
  {
   "cell_type": "code",
   "execution_count": 4,
   "id": "e7f9805f",
   "metadata": {
    "ExecuteTime": {
     "end_time": "2022-02-21T21:39:13.166997Z",
     "start_time": "2022-02-21T21:39:13.114137Z"
    }
   },
   "outputs": [
    {
     "data": {
      "text/html": [
       "<div>\n",
       "<style scoped>\n",
       "    .dataframe tbody tr th:only-of-type {\n",
       "        vertical-align: middle;\n",
       "    }\n",
       "\n",
       "    .dataframe tbody tr th {\n",
       "        vertical-align: top;\n",
       "    }\n",
       "\n",
       "    .dataframe thead th {\n",
       "        text-align: right;\n",
       "    }\n",
       "</style>\n",
       "<table border=\"1\" class=\"dataframe\">\n",
       "  <thead>\n",
       "    <tr style=\"text-align: right;\">\n",
       "      <th></th>\n",
       "      <th>age</th>\n",
       "      <th>anaemia</th>\n",
       "      <th>creatinine_phosphokinase</th>\n",
       "      <th>diabetes</th>\n",
       "      <th>ejection_fraction</th>\n",
       "      <th>high_blood_pressure</th>\n",
       "      <th>platelets</th>\n",
       "      <th>serum_creatinine</th>\n",
       "      <th>serum_sodium</th>\n",
       "      <th>sex</th>\n",
       "      <th>smoking</th>\n",
       "      <th>time</th>\n",
       "      <th>DEATH_EVENT</th>\n",
       "    </tr>\n",
       "  </thead>\n",
       "  <tbody>\n",
       "    <tr>\n",
       "      <th>count</th>\n",
       "      <td>299.000000</td>\n",
       "      <td>299.000000</td>\n",
       "      <td>299.000000</td>\n",
       "      <td>299.000000</td>\n",
       "      <td>299.000000</td>\n",
       "      <td>299.000000</td>\n",
       "      <td>299.000000</td>\n",
       "      <td>299.00000</td>\n",
       "      <td>299.000000</td>\n",
       "      <td>299.000000</td>\n",
       "      <td>299.00000</td>\n",
       "      <td>299.000000</td>\n",
       "      <td>299.00000</td>\n",
       "    </tr>\n",
       "    <tr>\n",
       "      <th>mean</th>\n",
       "      <td>60.833893</td>\n",
       "      <td>0.431438</td>\n",
       "      <td>581.839465</td>\n",
       "      <td>0.418060</td>\n",
       "      <td>38.083612</td>\n",
       "      <td>0.351171</td>\n",
       "      <td>263358.029264</td>\n",
       "      <td>1.39388</td>\n",
       "      <td>136.625418</td>\n",
       "      <td>0.648829</td>\n",
       "      <td>0.32107</td>\n",
       "      <td>130.260870</td>\n",
       "      <td>0.32107</td>\n",
       "    </tr>\n",
       "    <tr>\n",
       "      <th>std</th>\n",
       "      <td>11.894809</td>\n",
       "      <td>0.496107</td>\n",
       "      <td>970.287881</td>\n",
       "      <td>0.494067</td>\n",
       "      <td>11.834841</td>\n",
       "      <td>0.478136</td>\n",
       "      <td>97804.236869</td>\n",
       "      <td>1.03451</td>\n",
       "      <td>4.412477</td>\n",
       "      <td>0.478136</td>\n",
       "      <td>0.46767</td>\n",
       "      <td>77.614208</td>\n",
       "      <td>0.46767</td>\n",
       "    </tr>\n",
       "    <tr>\n",
       "      <th>min</th>\n",
       "      <td>40.000000</td>\n",
       "      <td>0.000000</td>\n",
       "      <td>23.000000</td>\n",
       "      <td>0.000000</td>\n",
       "      <td>14.000000</td>\n",
       "      <td>0.000000</td>\n",
       "      <td>25100.000000</td>\n",
       "      <td>0.50000</td>\n",
       "      <td>113.000000</td>\n",
       "      <td>0.000000</td>\n",
       "      <td>0.00000</td>\n",
       "      <td>4.000000</td>\n",
       "      <td>0.00000</td>\n",
       "    </tr>\n",
       "    <tr>\n",
       "      <th>25%</th>\n",
       "      <td>51.000000</td>\n",
       "      <td>0.000000</td>\n",
       "      <td>116.500000</td>\n",
       "      <td>0.000000</td>\n",
       "      <td>30.000000</td>\n",
       "      <td>0.000000</td>\n",
       "      <td>212500.000000</td>\n",
       "      <td>0.90000</td>\n",
       "      <td>134.000000</td>\n",
       "      <td>0.000000</td>\n",
       "      <td>0.00000</td>\n",
       "      <td>73.000000</td>\n",
       "      <td>0.00000</td>\n",
       "    </tr>\n",
       "    <tr>\n",
       "      <th>50%</th>\n",
       "      <td>60.000000</td>\n",
       "      <td>0.000000</td>\n",
       "      <td>250.000000</td>\n",
       "      <td>0.000000</td>\n",
       "      <td>38.000000</td>\n",
       "      <td>0.000000</td>\n",
       "      <td>262000.000000</td>\n",
       "      <td>1.10000</td>\n",
       "      <td>137.000000</td>\n",
       "      <td>1.000000</td>\n",
       "      <td>0.00000</td>\n",
       "      <td>115.000000</td>\n",
       "      <td>0.00000</td>\n",
       "    </tr>\n",
       "    <tr>\n",
       "      <th>75%</th>\n",
       "      <td>70.000000</td>\n",
       "      <td>1.000000</td>\n",
       "      <td>582.000000</td>\n",
       "      <td>1.000000</td>\n",
       "      <td>45.000000</td>\n",
       "      <td>1.000000</td>\n",
       "      <td>303500.000000</td>\n",
       "      <td>1.40000</td>\n",
       "      <td>140.000000</td>\n",
       "      <td>1.000000</td>\n",
       "      <td>1.00000</td>\n",
       "      <td>203.000000</td>\n",
       "      <td>1.00000</td>\n",
       "    </tr>\n",
       "    <tr>\n",
       "      <th>max</th>\n",
       "      <td>95.000000</td>\n",
       "      <td>1.000000</td>\n",
       "      <td>7861.000000</td>\n",
       "      <td>1.000000</td>\n",
       "      <td>80.000000</td>\n",
       "      <td>1.000000</td>\n",
       "      <td>850000.000000</td>\n",
       "      <td>9.40000</td>\n",
       "      <td>148.000000</td>\n",
       "      <td>1.000000</td>\n",
       "      <td>1.00000</td>\n",
       "      <td>285.000000</td>\n",
       "      <td>1.00000</td>\n",
       "    </tr>\n",
       "  </tbody>\n",
       "</table>\n",
       "</div>"
      ],
      "text/plain": [
       "              age     anaemia  creatinine_phosphokinase    diabetes  \\\n",
       "count  299.000000  299.000000                299.000000  299.000000   \n",
       "mean    60.833893    0.431438                581.839465    0.418060   \n",
       "std     11.894809    0.496107                970.287881    0.494067   \n",
       "min     40.000000    0.000000                 23.000000    0.000000   \n",
       "25%     51.000000    0.000000                116.500000    0.000000   \n",
       "50%     60.000000    0.000000                250.000000    0.000000   \n",
       "75%     70.000000    1.000000                582.000000    1.000000   \n",
       "max     95.000000    1.000000               7861.000000    1.000000   \n",
       "\n",
       "       ejection_fraction  high_blood_pressure      platelets  \\\n",
       "count         299.000000           299.000000     299.000000   \n",
       "mean           38.083612             0.351171  263358.029264   \n",
       "std            11.834841             0.478136   97804.236869   \n",
       "min            14.000000             0.000000   25100.000000   \n",
       "25%            30.000000             0.000000  212500.000000   \n",
       "50%            38.000000             0.000000  262000.000000   \n",
       "75%            45.000000             1.000000  303500.000000   \n",
       "max            80.000000             1.000000  850000.000000   \n",
       "\n",
       "       serum_creatinine  serum_sodium         sex    smoking        time  \\\n",
       "count         299.00000    299.000000  299.000000  299.00000  299.000000   \n",
       "mean            1.39388    136.625418    0.648829    0.32107  130.260870   \n",
       "std             1.03451      4.412477    0.478136    0.46767   77.614208   \n",
       "min             0.50000    113.000000    0.000000    0.00000    4.000000   \n",
       "25%             0.90000    134.000000    0.000000    0.00000   73.000000   \n",
       "50%             1.10000    137.000000    1.000000    0.00000  115.000000   \n",
       "75%             1.40000    140.000000    1.000000    1.00000  203.000000   \n",
       "max             9.40000    148.000000    1.000000    1.00000  285.000000   \n",
       "\n",
       "       DEATH_EVENT  \n",
       "count    299.00000  \n",
       "mean       0.32107  \n",
       "std        0.46767  \n",
       "min        0.00000  \n",
       "25%        0.00000  \n",
       "50%        0.00000  \n",
       "75%        1.00000  \n",
       "max        1.00000  "
      ]
     },
     "execution_count": 4,
     "metadata": {},
     "output_type": "execute_result"
    }
   ],
   "source": [
    "heart.describe()"
   ]
  },
  {
   "cell_type": "markdown",
   "id": "229ff260",
   "metadata": {},
   "source": [
    "## Separação de variáveis"
   ]
  },
  {
   "cell_type": "code",
   "execution_count": 5,
   "id": "927a5b83",
   "metadata": {
    "ExecuteTime": {
     "end_time": "2022-02-21T21:39:15.025629Z",
     "start_time": "2022-02-21T21:39:15.009671Z"
    }
   },
   "outputs": [],
   "source": [
    "# Target\n",
    "output = \"DEATH_EVENT\"\n",
    "\n",
    "# Variáveis não relacionadas à saúde do indivíduo\n",
    "sex = \"sex\"\n",
    "age = \"age\"\n",
    "\n",
    "# variáveis categóricas - relacionadas com a saúde do indivíduo\n",
    "var_categ = ['smoking','diabetes','anaemia','high_blood_pressure']\n",
    "\n",
    "# variáveis numéricas - relacionadas com a saúde do indivíduo\n",
    "var_cont = [\"creatinine_phosphokinase\", \"ejection_fraction\", \"platelets\", \"serum_creatinine\", \"serum_sodium\"]\n",
    "\n",
    "# É preciso analisar esta variável de uma maneira específica - Tempo de acompanhamento do médico\n",
    "time = \"time\""
   ]
  },
  {
   "cell_type": "markdown",
   "id": "b6408eb3",
   "metadata": {},
   "source": [
    "---"
   ]
  },
  {
   "cell_type": "markdown",
   "id": "bae904ce",
   "metadata": {},
   "source": [
    "### Análise multivariada: Cuidado com correlação com booleanos"
   ]
  },
  {
   "cell_type": "markdown",
   "id": "7d47a510",
   "metadata": {
    "ExecuteTime": {
     "end_time": "2022-02-24T01:15:03.466042Z",
     "start_time": "2022-02-24T01:15:03.281537Z"
    }
   },
   "source": [
    "plt.figure(figsize=(12,12))\n",
    "sns.heatmap(heart.corr(), annot = True, square = True, cmap=\"coolwarm\");"
   ]
  },
  {
   "cell_type": "markdown",
   "id": "a5bc4454",
   "metadata": {},
   "source": [
    "----"
   ]
  },
  {
   "cell_type": "markdown",
   "id": "6185ff79",
   "metadata": {},
   "source": [
    "## Renomear features categóricas"
   ]
  },
  {
   "cell_type": "code",
   "execution_count": 7,
   "id": "31fe05e8",
   "metadata": {
    "ExecuteTime": {
     "end_time": "2022-02-21T21:39:21.780487Z",
     "start_time": "2022-02-21T21:39:21.770514Z"
    }
   },
   "outputs": [],
   "source": [
    "heart[\"anaemia\"].replace({0: \"No\", 1: \"Yes\"}, inplace = True)\n",
    "heart[\"diabetes\"].replace({0: \"No\", 1: \"Yes\"}, inplace = True)\n",
    "heart[\"high_blood_pressure\"].replace({0: \"No\", 1: \"Yes\"}, inplace = True)\n",
    "heart[\"smoking\"].replace({0: \"No\", 1: \"Yes\"}, inplace = True)\n",
    "heart[\"sex\"].replace({0: \"Woman\", 1: \"Man\"}, inplace = True)\n",
    "heart[\"DEATH_EVENT\"].replace({0: \"Survived\", 1: \"Dead\"}, inplace = True)"
   ]
  },
  {
   "cell_type": "code",
   "execution_count": 8,
   "id": "a89f56e8",
   "metadata": {
    "ExecuteTime": {
     "end_time": "2022-02-21T21:39:23.311707Z",
     "start_time": "2022-02-21T21:39:23.289766Z"
    }
   },
   "outputs": [
    {
     "data": {
      "text/html": [
       "<div>\n",
       "<style scoped>\n",
       "    .dataframe tbody tr th:only-of-type {\n",
       "        vertical-align: middle;\n",
       "    }\n",
       "\n",
       "    .dataframe tbody tr th {\n",
       "        vertical-align: top;\n",
       "    }\n",
       "\n",
       "    .dataframe thead th {\n",
       "        text-align: right;\n",
       "    }\n",
       "</style>\n",
       "<table border=\"1\" class=\"dataframe\">\n",
       "  <thead>\n",
       "    <tr style=\"text-align: right;\">\n",
       "      <th></th>\n",
       "      <th>age</th>\n",
       "      <th>anaemia</th>\n",
       "      <th>creatinine_phosphokinase</th>\n",
       "      <th>diabetes</th>\n",
       "      <th>ejection_fraction</th>\n",
       "      <th>high_blood_pressure</th>\n",
       "      <th>platelets</th>\n",
       "      <th>serum_creatinine</th>\n",
       "      <th>serum_sodium</th>\n",
       "      <th>sex</th>\n",
       "      <th>smoking</th>\n",
       "      <th>time</th>\n",
       "      <th>DEATH_EVENT</th>\n",
       "    </tr>\n",
       "  </thead>\n",
       "  <tbody>\n",
       "    <tr>\n",
       "      <th>0</th>\n",
       "      <td>75.0</td>\n",
       "      <td>No</td>\n",
       "      <td>582</td>\n",
       "      <td>No</td>\n",
       "      <td>20</td>\n",
       "      <td>Yes</td>\n",
       "      <td>265000.00</td>\n",
       "      <td>1.9</td>\n",
       "      <td>130</td>\n",
       "      <td>Man</td>\n",
       "      <td>No</td>\n",
       "      <td>4</td>\n",
       "      <td>Dead</td>\n",
       "    </tr>\n",
       "    <tr>\n",
       "      <th>1</th>\n",
       "      <td>55.0</td>\n",
       "      <td>No</td>\n",
       "      <td>7861</td>\n",
       "      <td>No</td>\n",
       "      <td>38</td>\n",
       "      <td>No</td>\n",
       "      <td>263358.03</td>\n",
       "      <td>1.1</td>\n",
       "      <td>136</td>\n",
       "      <td>Man</td>\n",
       "      <td>No</td>\n",
       "      <td>6</td>\n",
       "      <td>Dead</td>\n",
       "    </tr>\n",
       "    <tr>\n",
       "      <th>2</th>\n",
       "      <td>65.0</td>\n",
       "      <td>No</td>\n",
       "      <td>146</td>\n",
       "      <td>No</td>\n",
       "      <td>20</td>\n",
       "      <td>No</td>\n",
       "      <td>162000.00</td>\n",
       "      <td>1.3</td>\n",
       "      <td>129</td>\n",
       "      <td>Man</td>\n",
       "      <td>Yes</td>\n",
       "      <td>7</td>\n",
       "      <td>Dead</td>\n",
       "    </tr>\n",
       "    <tr>\n",
       "      <th>3</th>\n",
       "      <td>50.0</td>\n",
       "      <td>Yes</td>\n",
       "      <td>111</td>\n",
       "      <td>No</td>\n",
       "      <td>20</td>\n",
       "      <td>No</td>\n",
       "      <td>210000.00</td>\n",
       "      <td>1.9</td>\n",
       "      <td>137</td>\n",
       "      <td>Man</td>\n",
       "      <td>No</td>\n",
       "      <td>7</td>\n",
       "      <td>Dead</td>\n",
       "    </tr>\n",
       "    <tr>\n",
       "      <th>4</th>\n",
       "      <td>65.0</td>\n",
       "      <td>Yes</td>\n",
       "      <td>160</td>\n",
       "      <td>Yes</td>\n",
       "      <td>20</td>\n",
       "      <td>No</td>\n",
       "      <td>327000.00</td>\n",
       "      <td>2.7</td>\n",
       "      <td>116</td>\n",
       "      <td>Woman</td>\n",
       "      <td>No</td>\n",
       "      <td>8</td>\n",
       "      <td>Dead</td>\n",
       "    </tr>\n",
       "  </tbody>\n",
       "</table>\n",
       "</div>"
      ],
      "text/plain": [
       "    age anaemia  creatinine_phosphokinase diabetes  ejection_fraction  \\\n",
       "0  75.0      No                       582       No                 20   \n",
       "1  55.0      No                      7861       No                 38   \n",
       "2  65.0      No                       146       No                 20   \n",
       "3  50.0     Yes                       111       No                 20   \n",
       "4  65.0     Yes                       160      Yes                 20   \n",
       "\n",
       "  high_blood_pressure  platelets  serum_creatinine  serum_sodium    sex  \\\n",
       "0                 Yes  265000.00               1.9           130    Man   \n",
       "1                  No  263358.03               1.1           136    Man   \n",
       "2                  No  162000.00               1.3           129    Man   \n",
       "3                  No  210000.00               1.9           137    Man   \n",
       "4                  No  327000.00               2.7           116  Woman   \n",
       "\n",
       "  smoking  time DEATH_EVENT  \n",
       "0      No     4        Dead  \n",
       "1      No     6        Dead  \n",
       "2     Yes     7        Dead  \n",
       "3      No     7        Dead  \n",
       "4      No     8        Dead  "
      ]
     },
     "execution_count": 8,
     "metadata": {},
     "output_type": "execute_result"
    }
   ],
   "source": [
    "heart.head()"
   ]
  },
  {
   "cell_type": "markdown",
   "id": "0170e5ee",
   "metadata": {},
   "source": [
    "---"
   ]
  },
  {
   "cell_type": "markdown",
   "id": "0eef35c2",
   "metadata": {},
   "source": [
    "## Análise do target (DEATH_EVENT)"
   ]
  },
  {
   "cell_type": "code",
   "execution_count": 41,
   "id": "d6a3e7c2",
   "metadata": {
    "ExecuteTime": {
     "end_time": "2022-02-21T21:53:13.044029Z",
     "start_time": "2022-02-21T21:53:12.849549Z"
    }
   },
   "outputs": [
    {
     "data": {
      "image/png": "[encoded data removed]",
      "text/plain": [
       "<Figure size 864x432 with 2 Axes>"
      ]
     },
     "metadata": {
      "needs_background": "light"
     },
     "output_type": "display_data"
    }
   ],
   "source": [
    "# Survived or Dead\n",
    "fig, axs = plt.subplots(1,2, figsize = (12,6))\n",
    "\n",
    "# Valores totais\n",
    "total_mortes = heart['DEATH_EVENT'].value_counts().sort_values()\n",
    "axs[0] = sns.barplot(x=total_mortes.index, y=total_mortes.values, palette='viridis', ax = axs[0])\n",
    "axs[0].set_title('Contagem de Sobreviventes e Falecidos')\n",
    "\n",
    "# Proporção\n",
    "proporcao = heart['DEATH_EVENT'].value_counts(normalize = True)\n",
    "plt.pie(proporcao, autopct = \"%1.0f%%\", colors = [\"#45A778\",\"#3C6682\"])\n",
    "plt.legend(labels = [\"Survived\",\"Dead\"], loc = 2, bbox_to_anchor = (1,1))\n",
    "plt.title('Proporção');"
   ]
  },
  {
   "cell_type": "markdown",
   "id": "007d748e",
   "metadata": {},
   "source": [
    "Proporção de sobreviventes e falecidos em torno de **2:1**"
   ]
  },
  {
   "cell_type": "markdown",
   "id": "d1560209",
   "metadata": {},
   "source": [
    "---"
   ]
  },
  {
   "cell_type": "markdown",
   "id": "829fe0b4",
   "metadata": {},
   "source": [
    "# Variáveis categóricas"
   ]
  },
  {
   "cell_type": "markdown",
   "id": "98d445eb",
   "metadata": {},
   "source": [
    "## sex"
   ]
  },
  {
   "cell_type": "code",
   "execution_count": 12,
   "id": "6c54f0c9",
   "metadata": {
    "ExecuteTime": {
     "end_time": "2022-02-21T21:40:07.889272Z",
     "start_time": "2022-02-21T21:40:07.866333Z"
    }
   },
   "outputs": [
    {
     "data": {
      "text/html": [
       "<div>\n",
       "<style scoped>\n",
       "    .dataframe tbody tr th:only-of-type {\n",
       "        vertical-align: middle;\n",
       "    }\n",
       "\n",
       "    .dataframe tbody tr th {\n",
       "        vertical-align: top;\n",
       "    }\n",
       "\n",
       "    .dataframe thead th {\n",
       "        text-align: right;\n",
       "    }\n",
       "</style>\n",
       "<table border=\"1\" class=\"dataframe\">\n",
       "  <thead>\n",
       "    <tr style=\"text-align: right;\">\n",
       "      <th></th>\n",
       "      <th>sex</th>\n",
       "      <th>DEATH_EVENT</th>\n",
       "      <th>total</th>\n",
       "      <th>proporcao</th>\n",
       "    </tr>\n",
       "  </thead>\n",
       "  <tbody>\n",
       "    <tr>\n",
       "      <th>0</th>\n",
       "      <td>Man</td>\n",
       "      <td>Dead</td>\n",
       "      <td>62</td>\n",
       "      <td>0.319588</td>\n",
       "    </tr>\n",
       "    <tr>\n",
       "      <th>1</th>\n",
       "      <td>Man</td>\n",
       "      <td>Survived</td>\n",
       "      <td>132</td>\n",
       "      <td>0.680412</td>\n",
       "    </tr>\n",
       "    <tr>\n",
       "      <th>2</th>\n",
       "      <td>Woman</td>\n",
       "      <td>Dead</td>\n",
       "      <td>34</td>\n",
       "      <td>0.323810</td>\n",
       "    </tr>\n",
       "    <tr>\n",
       "      <th>3</th>\n",
       "      <td>Woman</td>\n",
       "      <td>Survived</td>\n",
       "      <td>71</td>\n",
       "      <td>0.676190</td>\n",
       "    </tr>\n",
       "  </tbody>\n",
       "</table>\n",
       "</div>"
      ],
      "text/plain": [
       "     sex DEATH_EVENT  total  proporcao\n",
       "0    Man        Dead     62   0.319588\n",
       "1    Man    Survived    132   0.680412\n",
       "2  Woman        Dead     34   0.323810\n",
       "3  Woman    Survived     71   0.676190"
      ]
     },
     "execution_count": 12,
     "metadata": {},
     "output_type": "execute_result"
    }
   ],
   "source": [
    "sex = heart.groupby([\"sex\", \"DEATH_EVENT\"])[[\"sex\"]].count()\n",
    "sex['proporcao'] = heart.groupby([\"sex\", \"DEATH_EVENT\"])[[\"sex\"]].count()/heart.groupby([\"sex\"])[[\"sex\"]].count()\n",
    "sex.rename({'sex':'total'}, axis=1, inplace=True)\n",
    "sex.reset_index(inplace=True)\n",
    "sex"
   ]
  },
  {
   "cell_type": "code",
   "execution_count": 38,
   "id": "b5bd2cc1",
   "metadata": {
    "ExecuteTime": {
     "end_time": "2022-02-21T21:54:54.451897Z",
     "start_time": "2022-02-21T21:54:54.315262Z"
    }
   },
   "outputs": [
    {
     "data": {
      "image/png": "[encoded data removed]",
      "text/plain": [
       "<Figure size 504x360 with 1 Axes>"
      ]
     },
     "metadata": {
      "needs_background": "light"
     },
     "output_type": "display_data"
    }
   ],
   "source": [
    "plt.figure(figsize = (7,5))\n",
    "ax = sns.barplot(data=sex, x='sex', y='total', hue='DEATH_EVENT', palette='viridis')\n",
    "plt.legend(loc = 2, bbox_to_anchor = (1,1));"
   ]
  },
  {
   "cell_type": "code",
   "execution_count": 39,
   "id": "6ae3a8a3",
   "metadata": {
    "ExecuteTime": {
     "end_time": "2022-02-21T21:55:42.413842Z",
     "start_time": "2022-02-21T21:55:42.274216Z"
    }
   },
   "outputs": [
    {
     "data": {
      "image/png": "[encoded data removed]",
      "text/plain": [
       "<Figure size 864x360 with 2 Axes>"
      ]
     },
     "metadata": {},
     "output_type": "display_data"
    }
   ],
   "source": [
    "fig = plt.figure(figsize=(12,5))\n",
    "ax1 = fig.add_subplot(121)\n",
    "\n",
    "proporcao = heart[heart[\"sex\"]==\"Man\"].groupby('DEATH_EVENT')[\"age\"].count()\n",
    "ax1.pie(proporcao, autopct = \"%1.0f%%\", colors = [\"#3C6682\", \"#45A778\"])\n",
    "plt.title('Taxa de sobrevivência de Homens')\n",
    "plt.legend(labels = [\"Dead\",\"Survived\"], loc = 2, bbox_to_anchor = (1,1))\n",
    "\n",
    "\n",
    "ax2 = fig.add_subplot(122)\n",
    "proporcao = heart[heart[\"sex\"]==\"Woman\"].groupby('DEATH_EVENT')[\"age\"].count()\n",
    "ax2.pie(proporcao, autopct = \"%1.0f%%\", colors = [\"#3C6682\", \"#45A778\"])\n",
    "plt.title('Taxa de sobrevivência de Mulheres')\n",
    "plt.legend(labels = [\"Dead\",\"Survived\"], loc = 2, bbox_to_anchor = (1,1));"
   ]
  },
  {
   "cell_type": "markdown",
   "id": "780d82cb",
   "metadata": {},
   "source": [
    "---"
   ]
  },
  {
   "cell_type": "markdown",
   "id": "e7170336",
   "metadata": {},
   "source": [
    "## smoking"
   ]
  },
  {
   "cell_type": "code",
   "execution_count": 16,
   "id": "d040498c",
   "metadata": {
    "ExecuteTime": {
     "end_time": "2022-02-20T13:28:46.311666Z",
     "start_time": "2022-02-20T13:28:46.283741Z"
    }
   },
   "outputs": [
    {
     "data": {
      "text/html": [
       "<div>\n",
       "<style scoped>\n",
       "    .dataframe tbody tr th:only-of-type {\n",
       "        vertical-align: middle;\n",
       "    }\n",
       "\n",
       "    .dataframe tbody tr th {\n",
       "        vertical-align: top;\n",
       "    }\n",
       "\n",
       "    .dataframe thead th {\n",
       "        text-align: right;\n",
       "    }\n",
       "</style>\n",
       "<table border=\"1\" class=\"dataframe\">\n",
       "  <thead>\n",
       "    <tr style=\"text-align: right;\">\n",
       "      <th></th>\n",
       "      <th></th>\n",
       "      <th>total</th>\n",
       "      <th>proporcao</th>\n",
       "    </tr>\n",
       "    <tr>\n",
       "      <th>smoking</th>\n",
       "      <th>DEATH_EVENT</th>\n",
       "      <th></th>\n",
       "      <th></th>\n",
       "    </tr>\n",
       "  </thead>\n",
       "  <tbody>\n",
       "    <tr>\n",
       "      <th rowspan=\"2\" valign=\"top\">No</th>\n",
       "      <th>Dead</th>\n",
       "      <td>66</td>\n",
       "      <td>0.325123</td>\n",
       "    </tr>\n",
       "    <tr>\n",
       "      <th>Survived</th>\n",
       "      <td>137</td>\n",
       "      <td>0.674877</td>\n",
       "    </tr>\n",
       "    <tr>\n",
       "      <th rowspan=\"2\" valign=\"top\">Yes</th>\n",
       "      <th>Dead</th>\n",
       "      <td>30</td>\n",
       "      <td>0.312500</td>\n",
       "    </tr>\n",
       "    <tr>\n",
       "      <th>Survived</th>\n",
       "      <td>66</td>\n",
       "      <td>0.687500</td>\n",
       "    </tr>\n",
       "  </tbody>\n",
       "</table>\n",
       "</div>"
      ],
      "text/plain": [
       "                     total  proporcao\n",
       "smoking DEATH_EVENT                  \n",
       "No      Dead            66   0.325123\n",
       "        Survived       137   0.674877\n",
       "Yes     Dead            30   0.312500\n",
       "        Survived        66   0.687500"
      ]
     },
     "execution_count": 16,
     "metadata": {},
     "output_type": "execute_result"
    }
   ],
   "source": [
    "smoking = heart.groupby([\"smoking\", \"DEATH_EVENT\"])[[\"smoking\"]].count()\n",
    "smoking['proporcao'] = heart.groupby([\"smoking\", \"DEATH_EVENT\"])[[\"smoking\"]].count()/heart.groupby([\"smoking\"])[[\"smoking\"]].count()\n",
    "smoking.rename({'smoking':'total'}, axis=1, inplace=True)\n",
    "smoking"
   ]
  },
  {
   "cell_type": "markdown",
   "id": "349d1c0e",
   "metadata": {},
   "source": [
    "---"
   ]
  },
  {
   "cell_type": "markdown",
   "id": "d57dc17e",
   "metadata": {},
   "source": [
    "## diabetes"
   ]
  },
  {
   "cell_type": "code",
   "execution_count": 17,
   "id": "4d518468",
   "metadata": {
    "ExecuteTime": {
     "end_time": "2022-02-20T13:28:48.421024Z",
     "start_time": "2022-02-20T13:28:48.403072Z"
    }
   },
   "outputs": [
    {
     "data": {
      "text/html": [
       "<div>\n",
       "<style scoped>\n",
       "    .dataframe tbody tr th:only-of-type {\n",
       "        vertical-align: middle;\n",
       "    }\n",
       "\n",
       "    .dataframe tbody tr th {\n",
       "        vertical-align: top;\n",
       "    }\n",
       "\n",
       "    .dataframe thead th {\n",
       "        text-align: right;\n",
       "    }\n",
       "</style>\n",
       "<table border=\"1\" class=\"dataframe\">\n",
       "  <thead>\n",
       "    <tr style=\"text-align: right;\">\n",
       "      <th></th>\n",
       "      <th></th>\n",
       "      <th>total</th>\n",
       "      <th>proporcao</th>\n",
       "    </tr>\n",
       "    <tr>\n",
       "      <th>diabetes</th>\n",
       "      <th>DEATH_EVENT</th>\n",
       "      <th></th>\n",
       "      <th></th>\n",
       "    </tr>\n",
       "  </thead>\n",
       "  <tbody>\n",
       "    <tr>\n",
       "      <th rowspan=\"2\" valign=\"top\">No</th>\n",
       "      <th>Dead</th>\n",
       "      <td>56</td>\n",
       "      <td>0.321839</td>\n",
       "    </tr>\n",
       "    <tr>\n",
       "      <th>Survived</th>\n",
       "      <td>118</td>\n",
       "      <td>0.678161</td>\n",
       "    </tr>\n",
       "    <tr>\n",
       "      <th rowspan=\"2\" valign=\"top\">Yes</th>\n",
       "      <th>Dead</th>\n",
       "      <td>40</td>\n",
       "      <td>0.320000</td>\n",
       "    </tr>\n",
       "    <tr>\n",
       "      <th>Survived</th>\n",
       "      <td>85</td>\n",
       "      <td>0.680000</td>\n",
       "    </tr>\n",
       "  </tbody>\n",
       "</table>\n",
       "</div>"
      ],
      "text/plain": [
       "                      total  proporcao\n",
       "diabetes DEATH_EVENT                  \n",
       "No       Dead            56   0.321839\n",
       "         Survived       118   0.678161\n",
       "Yes      Dead            40   0.320000\n",
       "         Survived        85   0.680000"
      ]
     },
     "execution_count": 17,
     "metadata": {},
     "output_type": "execute_result"
    }
   ],
   "source": [
    "diabetes = heart.groupby([\"diabetes\", \"DEATH_EVENT\"])[[\"diabetes\"]].count()\n",
    "diabetes['proporcao'] = heart.groupby([\"diabetes\", \"DEATH_EVENT\"])[[\"diabetes\"]].count()/heart.groupby([\"diabetes\"])[[\"diabetes\"]].count()\n",
    "diabetes.rename({'diabetes':'total'}, axis=1, inplace=True)\n",
    "diabetes"
   ]
  },
  {
   "cell_type": "markdown",
   "id": "7cec7775",
   "metadata": {},
   "source": [
    "---"
   ]
  },
  {
   "cell_type": "markdown",
   "id": "f87dd0b5",
   "metadata": {},
   "source": [
    "## anaemia"
   ]
  },
  {
   "cell_type": "code",
   "execution_count": 18,
   "id": "8ef79a55",
   "metadata": {
    "ExecuteTime": {
     "end_time": "2022-02-20T13:28:50.484505Z",
     "start_time": "2022-02-20T13:28:50.464558Z"
    }
   },
   "outputs": [
    {
     "data": {
      "text/html": [
       "<div>\n",
       "<style scoped>\n",
       "    .dataframe tbody tr th:only-of-type {\n",
       "        vertical-align: middle;\n",
       "    }\n",
       "\n",
       "    .dataframe tbody tr th {\n",
       "        vertical-align: top;\n",
       "    }\n",
       "\n",
       "    .dataframe thead th {\n",
       "        text-align: right;\n",
       "    }\n",
       "</style>\n",
       "<table border=\"1\" class=\"dataframe\">\n",
       "  <thead>\n",
       "    <tr style=\"text-align: right;\">\n",
       "      <th></th>\n",
       "      <th></th>\n",
       "      <th>total</th>\n",
       "      <th>proporcao</th>\n",
       "    </tr>\n",
       "    <tr>\n",
       "      <th>anaemia</th>\n",
       "      <th>DEATH_EVENT</th>\n",
       "      <th></th>\n",
       "      <th></th>\n",
       "    </tr>\n",
       "  </thead>\n",
       "  <tbody>\n",
       "    <tr>\n",
       "      <th rowspan=\"2\" valign=\"top\">No</th>\n",
       "      <th>Dead</th>\n",
       "      <td>50</td>\n",
       "      <td>0.294118</td>\n",
       "    </tr>\n",
       "    <tr>\n",
       "      <th>Survived</th>\n",
       "      <td>120</td>\n",
       "      <td>0.705882</td>\n",
       "    </tr>\n",
       "    <tr>\n",
       "      <th rowspan=\"2\" valign=\"top\">Yes</th>\n",
       "      <th>Dead</th>\n",
       "      <td>46</td>\n",
       "      <td>0.356589</td>\n",
       "    </tr>\n",
       "    <tr>\n",
       "      <th>Survived</th>\n",
       "      <td>83</td>\n",
       "      <td>0.643411</td>\n",
       "    </tr>\n",
       "  </tbody>\n",
       "</table>\n",
       "</div>"
      ],
      "text/plain": [
       "                     total  proporcao\n",
       "anaemia DEATH_EVENT                  \n",
       "No      Dead            50   0.294118\n",
       "        Survived       120   0.705882\n",
       "Yes     Dead            46   0.356589\n",
       "        Survived        83   0.643411"
      ]
     },
     "execution_count": 18,
     "metadata": {},
     "output_type": "execute_result"
    }
   ],
   "source": [
    "anaemia = heart.groupby([\"anaemia\", \"DEATH_EVENT\"])[[\"anaemia\"]].count()\n",
    "anaemia['proporcao'] = heart.groupby([\"anaemia\", \"DEATH_EVENT\"])[[\"anaemia\"]].count()/heart.groupby([\"anaemia\"])[[\"anaemia\"]].count()\n",
    "anaemia.rename({'anaemia':'total'}, axis=1, inplace=True)\n",
    "anaemia"
   ]
  },
  {
   "cell_type": "markdown",
   "id": "455e7b20",
   "metadata": {},
   "source": [
    "---"
   ]
  },
  {
   "cell_type": "markdown",
   "id": "110fa7ef",
   "metadata": {},
   "source": [
    "## high_blood_pressure"
   ]
  },
  {
   "cell_type": "code",
   "execution_count": 19,
   "id": "6df7466a",
   "metadata": {
    "ExecuteTime": {
     "end_time": "2022-02-20T13:28:52.391404Z",
     "start_time": "2022-02-20T13:28:52.373453Z"
    }
   },
   "outputs": [
    {
     "data": {
      "text/html": [
       "<div>\n",
       "<style scoped>\n",
       "    .dataframe tbody tr th:only-of-type {\n",
       "        vertical-align: middle;\n",
       "    }\n",
       "\n",
       "    .dataframe tbody tr th {\n",
       "        vertical-align: top;\n",
       "    }\n",
       "\n",
       "    .dataframe thead th {\n",
       "        text-align: right;\n",
       "    }\n",
       "</style>\n",
       "<table border=\"1\" class=\"dataframe\">\n",
       "  <thead>\n",
       "    <tr style=\"text-align: right;\">\n",
       "      <th></th>\n",
       "      <th>high_blood_pressure</th>\n",
       "      <th>DEATH_EVENT</th>\n",
       "      <th>total</th>\n",
       "      <th>proporcao</th>\n",
       "    </tr>\n",
       "  </thead>\n",
       "  <tbody>\n",
       "    <tr>\n",
       "      <th>0</th>\n",
       "      <td>No</td>\n",
       "      <td>Dead</td>\n",
       "      <td>57</td>\n",
       "      <td>0.293814</td>\n",
       "    </tr>\n",
       "    <tr>\n",
       "      <th>1</th>\n",
       "      <td>No</td>\n",
       "      <td>Survived</td>\n",
       "      <td>137</td>\n",
       "      <td>0.706186</td>\n",
       "    </tr>\n",
       "    <tr>\n",
       "      <th>2</th>\n",
       "      <td>Yes</td>\n",
       "      <td>Dead</td>\n",
       "      <td>39</td>\n",
       "      <td>0.371429</td>\n",
       "    </tr>\n",
       "    <tr>\n",
       "      <th>3</th>\n",
       "      <td>Yes</td>\n",
       "      <td>Survived</td>\n",
       "      <td>66</td>\n",
       "      <td>0.628571</td>\n",
       "    </tr>\n",
       "  </tbody>\n",
       "</table>\n",
       "</div>"
      ],
      "text/plain": [
       "  high_blood_pressure DEATH_EVENT  total  proporcao\n",
       "0                  No        Dead     57   0.293814\n",
       "1                  No    Survived    137   0.706186\n",
       "2                 Yes        Dead     39   0.371429\n",
       "3                 Yes    Survived     66   0.628571"
      ]
     },
     "execution_count": 19,
     "metadata": {},
     "output_type": "execute_result"
    }
   ],
   "source": [
    "high_pressure = heart.groupby([\"high_blood_pressure\", \"DEATH_EVENT\"])[[\"high_blood_pressure\"]].count()\n",
    "high_pressure['proporcao'] = heart.groupby([\"high_blood_pressure\", \"DEATH_EVENT\"])[[\"high_blood_pressure\"]].count()/heart.groupby([\"high_blood_pressure\"])[[\"high_blood_pressure\"]].count()\n",
    "high_pressure.rename({'high_blood_pressure':'total'}, axis=1, inplace=True)\n",
    "high_pressure.reset_index(inplace=True)\n",
    "high_pressure"
   ]
  },
  {
   "cell_type": "code",
   "execution_count": 44,
   "id": "e803bb1f",
   "metadata": {
    "ExecuteTime": {
     "end_time": "2022-02-21T22:20:38.746629Z",
     "start_time": "2022-02-21T22:20:38.280860Z"
    }
   },
   "outputs": [
    {
     "data": {
      "image/png": "[encoded data removed]",
      "text/plain": [
       "<Figure size 1080x360 with 4 Axes>"
      ]
     },
     "metadata": {
      "needs_background": "light"
     },
     "output_type": "display_data"
    }
   ],
   "source": [
    "fig, ax = plt.subplots(1, 4, figsize=(15, 5), sharey=True, sharex=True)\n",
    "cont = 0\n",
    "for i in range(4):\n",
    "    sns.countplot(data=heart, x=var_categ[cont], ax=ax[i], hue='DEATH_EVENT', palette='viridis', order=[\"Yes\",\"No\"])\n",
    "    cont = cont + 1\n",
    "            \n",
    "fig.tight_layout(pad=3.0)"
   ]
  },
  {
   "cell_type": "markdown",
   "id": "b400a46b",
   "metadata": {},
   "source": [
    "#### A proporção de sobreviventes e falecidos para pessoas com anemia e/ou pressão alta são levemente diferentes da média geral. Para as pessoas que não tem anemia e nem pressão alta, a taxa de sobrevivência é maior."
   ]
  },
  {
   "cell_type": "markdown",
   "id": "6963ae8b",
   "metadata": {},
   "source": [
    "---"
   ]
  },
  {
   "cell_type": "markdown",
   "id": "e8cd69fb",
   "metadata": {},
   "source": [
    "# Variáveis contínuas"
   ]
  },
  {
   "cell_type": "markdown",
   "id": "cefdfb00",
   "metadata": {},
   "source": [
    "## Verificação de outliers nas variáveis contínuas"
   ]
  },
  {
   "cell_type": "code",
   "execution_count": 18,
   "id": "c456ac85",
   "metadata": {},
   "outputs": [
    {
     "data": {
      "image/png": "[encoded data removed]",
      "text/plain": [
       "<Figure size 1080x432 with 5 Axes>"
      ]
     },
     "metadata": {
      "needs_background": "light"
     },
     "output_type": "display_data"
    }
   ],
   "source": [
    "fig, ax = plt.subplots(1,5, figsize=(15,6))\n",
    "col = 0\n",
    "for i in range(5):\n",
    "    sns.boxplot(data = heart, y = var_cont[col], ax = ax[i]);\n",
    "    col += 1\n",
    "        \n",
    "fig.tight_layout(pad = 3)"
   ]
  },
  {
   "cell_type": "markdown",
   "id": "30a7b893",
   "metadata": {},
   "source": [
    "---"
   ]
  },
  {
   "cell_type": "markdown",
   "id": "8ef6d41f",
   "metadata": {},
   "source": [
    "### Teste de hipótese\n",
    "\n",
    "- $H_{0}$ : A média de **-feature-** para falecidos é igual a média para sobreviventes\n",
    "- $H_{1}$ : A média de **-feature-** para falecidos é diferente da média para sobreviventes\n",
    "\n",
    "**Paired Sample Z-Test**\n",
    "\n",
    "$$z = \\frac{x_{0,mean} - x_{1,mean}}{\\sqrt{\\frac{\\sigma^2_{0}}{n_{0}}+\\frac{\\sigma^2_{1}}{n_{1}}}}$$\n",
    "\n",
    "Sobreviventes\n",
    "- $x_{0,mean}$\n",
    "- $\\sigma^2_{0}$\n",
    "- $n_{0}$\n",
    "\n",
    "Falecidos\n",
    "- $x_{1,mean}$\n",
    "- $\\sigma^2_{1}$\n",
    "- $n_{1}$\n",
    "-------\n",
    "- $\\alpha$ = 0.05\n",
    "- gl = $n_{0}$ + $n_{1}$ - 2 = 203 + 96 - 2 = 297\n",
    "- two-tailed\n",
    "- $Z_{c}$ = 1.96\n",
    "---\n",
    "Se z > $Z_{c}$, então rejeita a hipótese nula"
   ]
  },
  {
   "cell_type": "markdown",
   "id": "ee7af421",
   "metadata": {},
   "source": [
    "---"
   ]
  },
  {
   "cell_type": "markdown",
   "id": "524725ba",
   "metadata": {},
   "source": [
    "---"
   ]
  },
  {
   "cell_type": "markdown",
   "id": "22a84e6d",
   "metadata": {},
   "source": [
    "## age"
   ]
  },
  {
   "cell_type": "code",
   "execution_count": 19,
   "id": "a4f4cd8a",
   "metadata": {
    "ExecuteTime": {
     "end_time": "2022-01-31T21:53:08.540357Z",
     "start_time": "2022-01-31T21:53:08.525397Z"
    }
   },
   "outputs": [
    {
     "name": "stdout",
     "output_type": "stream",
     "text": [
      "Pessoas falecidas\n",
      "65.0\n",
      "13.214555639583372\n",
      "\n",
      "Pessoas vivas\n",
      "60.0\n",
      "10.637890226515534\n"
     ]
    }
   ],
   "source": [
    "print(\"Pessoas falecidas\")\n",
    "print(heart[heart[\"DEATH_EVENT\"] == 'Dead']['age'].median())\n",
    "print(heart[heart[\"DEATH_EVENT\"] == 'Dead']['age'].std())\n",
    "print()\n",
    "print(\"Pessoas vivas\")\n",
    "print(heart[heart[\"DEATH_EVENT\"] == 'Survived']['age'].median())\n",
    "print(heart[heart[\"DEATH_EVENT\"] == 'Survived']['age'].std())"
   ]
  },
  {
   "cell_type": "code",
   "execution_count": 38,
   "id": "a71aaab7",
   "metadata": {},
   "outputs": [
    {
     "data": {
      "image/png": "[encoded data removed]",
      "text/plain": [
       "<Figure size 864x360 with 1 Axes>"
      ]
     },
     "metadata": {
      "needs_background": "light"
     },
     "output_type": "display_data"
    }
   ],
   "source": [
    "plt.figure(figsize=(12,5))\n",
    "plt.hist(heart[heart[\"DEATH_EVENT\"] == \"Dead\"][\"age\"],  alpha = 0.5, bins = 10, label = 'Dead')\n",
    "plt.hist(heart[heart[\"DEATH_EVENT\"] == \"Survived\"][\"age\"], alpha = 0.5, bins = 10, label = 'Survived')\n",
    "plt.hist(heart[\"age\"], alpha = 0.05, bins = 10, label = 'All')\n",
    "plt.legend()\n",
    "plt.title(\"age\");"
   ]
  },
  {
   "cell_type": "markdown",
   "id": "313d0a5c",
   "metadata": {},
   "source": [
    "### Teste-Z"
   ]
  },
  {
   "cell_type": "code",
   "execution_count": 21,
   "id": "c6be1ae8",
   "metadata": {
    "ExecuteTime": {
     "end_time": "2022-01-31T21:53:08.572271Z",
     "start_time": "2022-01-31T21:53:08.557330Z"
    }
   },
   "outputs": [
    {
     "name": "stdout",
     "output_type": "stream",
     "text": [
      "z = 3.244132161308385\n",
      "Rejeita-se a hipótese nula e aceita-se a hipótese alternativa\n"
     ]
    }
   ],
   "source": [
    "# Sobreviventes\n",
    "x0 = 60\n",
    "s2_0 = 10.64**2\n",
    "n0 = 203\n",
    "\n",
    "# Falecidas\n",
    "x1 = 65\n",
    "s2_1 = 13.21**2\n",
    "n1 = 96\n",
    "\n",
    "z = (x0 - x1)/(np.sqrt((s2_0/n0)+(s2_1/n1)))\n",
    "print(f\"z = {abs(z)}\")\n",
    "\n",
    "if abs(z) > 1.96:\n",
    "    print(\"Rejeita-se a hipótese nula e aceita-se a hipótese alternativa\")\n",
    "else:\n",
    "    print(\"Falhou-se em rejeitar a hipótese nula\")"
   ]
  },
  {
   "cell_type": "markdown",
   "id": "192a1fc5",
   "metadata": {},
   "source": [
    "----"
   ]
  },
  {
   "cell_type": "markdown",
   "id": "653833f9",
   "metadata": {},
   "source": [
    "## creatinine_phosphokinase"
   ]
  },
  {
   "cell_type": "code",
   "execution_count": 22,
   "id": "9146b50e",
   "metadata": {
    "ExecuteTime": {
     "end_time": "2022-01-31T21:53:08.946793Z",
     "start_time": "2022-01-31T21:53:08.931833Z"
    }
   },
   "outputs": [
    {
     "name": "stdout",
     "output_type": "stream",
     "text": [
      "Pessoas falecidas\n",
      "259.0\n",
      "1316.5806399417013\n",
      "\n",
      "Pessoas vivas\n",
      "245.0\n",
      "753.7995715566005\n"
     ]
    }
   ],
   "source": [
    "print(\"Pessoas falecidas\")\n",
    "print(heart[heart[\"DEATH_EVENT\"] == 'Dead']['creatinine_phosphokinase'].median())\n",
    "print(heart[heart[\"DEATH_EVENT\"] == 'Dead']['creatinine_phosphokinase'].std())\n",
    "print()\n",
    "print(\"Pessoas vivas\")\n",
    "print(heart[heart[\"DEATH_EVENT\"] == 'Survived']['creatinine_phosphokinase'].median())\n",
    "print(heart[heart[\"DEATH_EVENT\"] == 'Survived']['creatinine_phosphokinase'].std())"
   ]
  },
  {
   "cell_type": "markdown",
   "id": "36e92d95",
   "metadata": {},
   "source": [
    "### Teste Z"
   ]
  },
  {
   "cell_type": "code",
   "execution_count": 23,
   "id": "948d735d",
   "metadata": {
    "ExecuteTime": {
     "end_time": "2022-01-31T21:53:08.977710Z",
     "start_time": "2022-01-31T21:53:08.962749Z"
    }
   },
   "outputs": [
    {
     "name": "stdout",
     "output_type": "stream",
     "text": [
      "z = 0.09694282223354052\n",
      "Falhou-se em rejeitar a hipótese nula\n"
     ]
    }
   ],
   "source": [
    "# Sobreviventes\n",
    "x0 = 245\n",
    "s2_0 = 568212.9\n",
    "n0 = 203\n",
    "\n",
    "# Falecidas\n",
    "x1 = 259\n",
    "s2_1 = 1733435.6\n",
    "n1 = 96\n",
    "\n",
    "z = (x0 - x1)/(np.sqrt((s2_0/n0)+(s2_1/n1)))\n",
    "print(f\"z = {abs(z)}\")\n",
    "\n",
    "if abs(z) > 1.96:\n",
    "    print(\"Rejeita-se a hipótese nula e aceita-se a hipótese alternativa\")\n",
    "else:\n",
    "    print(\"Falhou-se em rejeitar a hipótese nula\")"
   ]
  },
  {
   "cell_type": "markdown",
   "id": "9a9aa8f3",
   "metadata": {},
   "source": [
    "---"
   ]
  },
  {
   "cell_type": "markdown",
   "id": "2ed4a62f",
   "metadata": {},
   "source": [
    "## ejection_fraction"
   ]
  },
  {
   "cell_type": "code",
   "execution_count": 24,
   "id": "dadc42ad",
   "metadata": {
    "ExecuteTime": {
     "end_time": "2022-01-31T21:53:09.273457Z",
     "start_time": "2022-01-31T21:53:09.259493Z"
    }
   },
   "outputs": [
    {
     "name": "stdout",
     "output_type": "stream",
     "text": [
      "Pessoas falecidas\n",
      "30.0\n",
      "12.52530333701386\n",
      "\n",
      "Pessoas vivas\n",
      "38.0\n",
      "10.859962681586294\n"
     ]
    }
   ],
   "source": [
    "print(\"Pessoas falecidas\")\n",
    "print(heart[heart[\"DEATH_EVENT\"] == 'Dead']['ejection_fraction'].median())\n",
    "print(heart[heart[\"DEATH_EVENT\"] == 'Dead']['ejection_fraction'].std())\n",
    "print()\n",
    "print(\"Pessoas vivas\")\n",
    "print(heart[heart[\"DEATH_EVENT\"] == 'Survived']['ejection_fraction'].median())\n",
    "print(heart[heart[\"DEATH_EVENT\"] == 'Survived']['ejection_fraction'].std())"
   ]
  },
  {
   "cell_type": "markdown",
   "id": "aa7cb2e0",
   "metadata": {},
   "source": [
    "## Teste Z"
   ]
  },
  {
   "cell_type": "code",
   "execution_count": 25,
   "id": "e1248fd9",
   "metadata": {
    "ExecuteTime": {
     "end_time": "2022-01-31T21:53:09.305372Z",
     "start_time": "2022-01-31T21:53:09.290411Z"
    }
   },
   "outputs": [
    {
     "name": "stdout",
     "output_type": "stream",
     "text": [
      "z = 5.376764548697805\n",
      "Rejeita-se a hipótese nula e aceita-se a hipótese alternativa\n"
     ]
    }
   ],
   "source": [
    "# Sobreviventes\n",
    "x0 = 38\n",
    "s2_0 = 117.94\n",
    "n0 = 203\n",
    "\n",
    "# Falecidas\n",
    "x1 = 30\n",
    "s2_1 = 156.75\n",
    "n1 = 96\n",
    "\n",
    "z = (x0 - x1)/(np.sqrt((s2_0/n0)+(s2_1/n1)))\n",
    "print(f\"z = {abs(z)}\")\n",
    "\n",
    "if abs(z) > 1.96:\n",
    "    print(\"Rejeita-se a hipótese nula e aceita-se a hipótese alternativa\")\n",
    "else:\n",
    "    print(\"Falhou-se em rejeitar a hipótese nula\")"
   ]
  },
  {
   "cell_type": "markdown",
   "id": "fd3c3890",
   "metadata": {},
   "source": [
    "---"
   ]
  },
  {
   "cell_type": "markdown",
   "id": "b293821f",
   "metadata": {},
   "source": [
    "## serum_creatinine"
   ]
  },
  {
   "cell_type": "code",
   "execution_count": 26,
   "id": "a917ed6a",
   "metadata": {
    "ExecuteTime": {
     "end_time": "2022-01-31T21:53:09.603573Z",
     "start_time": "2022-01-31T21:53:09.588612Z"
    }
   },
   "outputs": [
    {
     "name": "stdout",
     "output_type": "stream",
     "text": [
      "Pessoas falecidas\n",
      "1.8358333333333332\n",
      "1.4685615351275343\n",
      "\n",
      "Pessoas vivas\n",
      "1.184876847290641\n",
      "0.6540826541207885\n"
     ]
    }
   ],
   "source": [
    "print(\"Pessoas falecidas\")\n",
    "print(heart[heart[\"DEATH_EVENT\"] == 'Dead']['serum_creatinine'].mean())\n",
    "print(heart[heart[\"DEATH_EVENT\"] == 'Dead']['serum_creatinine'].std())\n",
    "print()\n",
    "print(\"Pessoas vivas\")\n",
    "print(heart[heart[\"DEATH_EVENT\"] == 'Survived']['serum_creatinine'].mean())\n",
    "print(heart[heart[\"DEATH_EVENT\"] == 'Survived']['serum_creatinine'].std())"
   ]
  },
  {
   "cell_type": "markdown",
   "id": "63356571",
   "metadata": {},
   "source": [
    "## Teste Z"
   ]
  },
  {
   "cell_type": "code",
   "execution_count": 27,
   "id": "2918f0db",
   "metadata": {
    "ExecuteTime": {
     "end_time": "2022-01-31T21:53:09.635487Z",
     "start_time": "2022-01-31T21:53:09.620527Z"
    }
   },
   "outputs": [
    {
     "name": "stdout",
     "output_type": "stream",
     "text": [
      "z = 4.1499181001815435\n",
      "Rejeita-se a hipótese nula e aceita-se a hipótese alternativa\n"
     ]
    }
   ],
   "source": [
    "# Sobreviventes\n",
    "x0 = 1.185\n",
    "s2_0 = 0.428\n",
    "n0 = 203\n",
    "\n",
    "# Falecidas\n",
    "x1 = 1.836\n",
    "s2_1 = 2.16\n",
    "n1 = 96\n",
    "\n",
    "z = (x0 - x1)/(np.sqrt((s2_0/n0)+(s2_1/n1)))\n",
    "print(f\"z = {abs(z)}\")\n",
    "\n",
    "if abs(z) > 1.96:\n",
    "    print(\"Rejeita-se a hipótese nula e aceita-se a hipótese alternativa\")\n",
    "else:\n",
    "    print(\"Falhou-se em rejeitar a hipótese nula\")"
   ]
  },
  {
   "cell_type": "markdown",
   "id": "907218f6",
   "metadata": {},
   "source": [
    "----"
   ]
  },
  {
   "cell_type": "markdown",
   "id": "7111076a",
   "metadata": {},
   "source": [
    "## platelets"
   ]
  },
  {
   "cell_type": "code",
   "execution_count": 28,
   "id": "a85c5091",
   "metadata": {
    "ExecuteTime": {
     "end_time": "2022-01-31T21:53:09.916735Z",
     "start_time": "2022-01-31T21:53:09.901776Z"
    }
   },
   "outputs": [
    {
     "name": "stdout",
     "output_type": "stream",
     "text": [
      "Pessoas falecidas\n",
      "256381.0447916667\n",
      "98525.68285648678\n",
      "\n",
      "Pessoas vivas\n",
      "266657.4899014779\n",
      "97531.20228346101\n"
     ]
    }
   ],
   "source": [
    "print(\"Pessoas falecidas\")\n",
    "print(heart[heart[\"DEATH_EVENT\"] == 'Dead']['platelets'].mean())\n",
    "print(heart[heart[\"DEATH_EVENT\"] == 'Dead']['platelets'].std())\n",
    "print()\n",
    "print(\"Pessoas vivas\")\n",
    "print(heart[heart[\"DEATH_EVENT\"] == 'Survived']['platelets'].mean())\n",
    "print(heart[heart[\"DEATH_EVENT\"] == 'Survived']['platelets'].std())"
   ]
  },
  {
   "cell_type": "code",
   "execution_count": 29,
   "id": "82983dd9",
   "metadata": {
    "ExecuteTime": {
     "end_time": "2022-01-31T21:53:09.947653Z",
     "start_time": "2022-01-31T21:53:09.932692Z"
    }
   },
   "outputs": [
    {
     "name": "stdout",
     "output_type": "stream",
     "text": [
      "z = 0.8447857686207411\n",
      "Falhou-se em rejeitar a hipótese nula\n"
     ]
    }
   ],
   "source": [
    "# Sobreviventes\n",
    "x0 = 266657.49\n",
    "s2_0 = 97531.20**2\n",
    "n0 = 203\n",
    "\n",
    "# Falecidas\n",
    "x1 = 256381.04\n",
    "s2_1 = 98525.68**2\n",
    "n1 = 96\n",
    "\n",
    "z = (x0 - x1)/(np.sqrt((s2_0/n0)+(s2_1/n1)))\n",
    "print(f\"z = {abs(z)}\")\n",
    "\n",
    "if abs(z) > 1.96:\n",
    "    print(\"Rejeita-se a hipótese nula e aceita-se a hipótese alternativa\")\n",
    "else:\n",
    "    print(\"Falhou-se em rejeitar a hipótese nula\")"
   ]
  },
  {
   "cell_type": "markdown",
   "id": "ff9c1c10",
   "metadata": {},
   "source": [
    "---"
   ]
  },
  {
   "cell_type": "markdown",
   "id": "7f65e11b",
   "metadata": {},
   "source": [
    "## serum_sodium"
   ]
  },
  {
   "cell_type": "code",
   "execution_count": 30,
   "id": "bbef592f",
   "metadata": {
    "ExecuteTime": {
     "end_time": "2022-01-31T21:53:10.196493Z",
     "start_time": "2022-01-31T21:53:10.182530Z"
    }
   },
   "outputs": [
    {
     "name": "stdout",
     "output_type": "stream",
     "text": [
      "Pessoas falecidas\n",
      "135.375\n",
      "5.00157869813964\n",
      "\n",
      "Pessoas vivas\n",
      "137.2167487684729\n",
      "3.9829233593022115\n"
     ]
    }
   ],
   "source": [
    "print(\"Pessoas falecidas\")\n",
    "print(heart[heart[\"DEATH_EVENT\"] == 'Dead']['serum_sodium'].mean())\n",
    "print(heart[heart[\"DEATH_EVENT\"] == 'Dead']['serum_sodium'].std())\n",
    "print()\n",
    "print(\"Pessoas vivas\")\n",
    "print(heart[heart[\"DEATH_EVENT\"] == 'Survived']['serum_sodium'].mean())\n",
    "print(heart[heart[\"DEATH_EVENT\"] == 'Survived']['serum_sodium'].std())"
   ]
  },
  {
   "cell_type": "markdown",
   "id": "dcbe6646",
   "metadata": {},
   "source": [
    "## Teste Z"
   ]
  },
  {
   "cell_type": "code",
   "execution_count": 31,
   "id": "2efac2aa",
   "metadata": {
    "ExecuteTime": {
     "end_time": "2022-01-31T21:53:10.228412Z",
     "start_time": "2022-01-31T21:53:10.213452Z"
    }
   },
   "outputs": [
    {
     "name": "stdout",
     "output_type": "stream",
     "text": [
      "z = 3.170942243443875\n",
      "Rejeita-se a hipótese nula e aceita-se a hipótese alternativa\n"
     ]
    }
   ],
   "source": [
    "# Sobreviventes\n",
    "x0 = 137.22\n",
    "s2_0 = 15.86\n",
    "n0 = 203\n",
    "\n",
    "# Falecidas\n",
    "x1 = 135.375\n",
    "s2_1 = 25\n",
    "n1 = 96\n",
    "\n",
    "z = (x0 - x1)/(np.sqrt((s2_0/n0)+(s2_1/n1)))\n",
    "print(f\"z = {abs(z)}\")\n",
    "\n",
    "if abs(z) > 1.96:\n",
    "    print(\"Rejeita-se a hipótese nula e aceita-se a hipótese alternativa\")\n",
    "else:\n",
    "    print(\"Falhou-se em rejeitar a hipótese nula\")"
   ]
  },
  {
   "cell_type": "markdown",
   "id": "46478cfb",
   "metadata": {},
   "source": [
    "---"
   ]
  },
  {
   "cell_type": "code",
   "execution_count": 42,
   "id": "ac5beae0",
   "metadata": {},
   "outputs": [
    {
     "data": {
      "image/png": "[encoded data removed]",
      "text/plain": [
       "<Figure size 1080x360 with 5 Axes>"
      ]
     },
     "metadata": {
      "needs_background": "light"
     },
     "output_type": "display_data"
    }
   ],
   "source": [
    "fig, ax = plt.subplots(1,5, figsize=(15,5))     \n",
    "\n",
    "for i in range(5):\n",
    "    ax[i].hist(heart[heart[\"DEATH_EVENT\"] == \"Dead\"][var_cont[i]],  alpha = 0.5, bins = 20, label = 'Dead')\n",
    "    ax[i].hist(heart[heart[\"DEATH_EVENT\"] == \"Survived\"][var_cont[i]], alpha = 0.5, bins = 20, label = 'Survived')\n",
    "    ax[i].hist(heart[var_cont[i]], alpha = 0.1, bins = 20, label = 'All')\n",
    "    ax[i].legend(loc = \"upper right\")\n",
    "    ax[i].set_xlabel(var_cont[i]);\n",
    "\n",
    "fig.tight_layout(pad = 3)"
   ]
  },
  {
   "cell_type": "markdown",
   "id": "2db12251",
   "metadata": {},
   "source": [
    "---"
   ]
  },
  {
   "cell_type": "markdown",
   "id": "3f22556b",
   "metadata": {},
   "source": [
    "## time"
   ]
  },
  {
   "cell_type": "code",
   "execution_count": 33,
   "id": "f5e81c30",
   "metadata": {
    "ExecuteTime": {
     "end_time": "2022-01-31T21:53:10.494734Z",
     "start_time": "2022-01-31T21:53:10.480771Z"
    }
   },
   "outputs": [
    {
     "name": "stdout",
     "output_type": "stream",
     "text": [
      "Pessoas falecidas\n",
      "70.88541666666667\n",
      "62.378280597904244\n",
      "\n",
      "Pessoas vivas\n",
      "158.3399014778325\n",
      "67.7428724392971\n"
     ]
    }
   ],
   "source": [
    "print(\"Pessoas falecidas\")\n",
    "print(heart[heart[\"DEATH_EVENT\"] == 'Dead']['time'].mean())\n",
    "print(heart[heart[\"DEATH_EVENT\"] == 'Dead']['time'].std())\n",
    "print()\n",
    "print(\"Pessoas vivas\")\n",
    "print(heart[heart[\"DEATH_EVENT\"] == 'Survived']['time'].mean())\n",
    "print(heart[heart[\"DEATH_EVENT\"] == 'Survived']['time'].std())"
   ]
  },
  {
   "cell_type": "code",
   "execution_count": 34,
   "id": "b694bf6c",
   "metadata": {
    "ExecuteTime": {
     "end_time": "2022-02-19T00:57:02.589784Z",
     "start_time": "2022-02-19T00:57:02.318510Z"
    }
   },
   "outputs": [
    {
     "data": {
      "image/png": "[encoded data removed]",
      "text/plain": [
       "<Figure size 864x360 with 1 Axes>"
      ]
     },
     "metadata": {
      "needs_background": "light"
     },
     "output_type": "display_data"
    }
   ],
   "source": [
    "plt.figure(figsize=(12,5))\n",
    "plt.hist(heart[heart[\"DEATH_EVENT\"] == \"Dead\"][\"time\"],  alpha = 0.7, bins = 20, label = 'Dead')\n",
    "plt.hist(heart[heart[\"DEATH_EVENT\"] == \"Survived\"][\"time\"], alpha = 0.2, bins = 20, label = 'Survived')\n",
    "plt.hist(heart[\"time\"], alpha = 0.1, bins = 20, label = 'All')\n",
    "plt.xlabel(\"time\")\n",
    "plt.ylabel(\"counts\")\n",
    "plt.legend()\n",
    "plt.show()"
   ]
  },
  {
   "cell_type": "markdown",
   "id": "244c1958",
   "metadata": {},
   "source": [
    "----"
   ]
  },
  {
   "cell_type": "markdown",
   "id": "35ac14d5",
   "metadata": {},
   "source": [
    "---"
   ]
  },
  {
   "cell_type": "markdown",
   "id": "24166620",
   "metadata": {},
   "source": [
    "# Conclusão"
   ]
  },
  {
   "cell_type": "markdown",
   "id": "36370e1c",
   "metadata": {},
   "source": [
    "- Fazendo uma EDA, teste de hipóteses e usando gráficos, **anaemia**, **high_blood_pressure**, **serum_creatinine**, **ejection_fraction** e **serum_sodium** apresentaram a possibilidade de poderem prever uma possível falha no coração.\n",
    "- De acordo com o artigo [1], **serum_creatinine** e **ejection_fraction** são os dois parâmetros utilizados para identificar uma possível falha no coração. Nesse caso, foi utilizado Machine Learning para identificar com maior precisão estes dois parâmetros."
   ]
  },
  {
   "cell_type": "markdown",
   "id": "90e7ae43",
   "metadata": {},
   "source": [
    "# Referência\n",
    "[1] Chicco, D., Jurman, G. Machine learning can predict survival of patients with heart failure from serum creatinine and ejection fraction alone. BMC Med Inform Decis Mak 20, 16 (2020). https://doi.org/10.1186/s12911-020-1023-5"
   ]
  }
 ],
 "metadata": {
  "kernelspec": {
   "display_name": "Python 3",
   "language": "python",
   "name": "python3"
  },
  "language_info": {
   "codemirror_mode": {
    "name": "ipython",
    "version": 3
   },
   "file_extension": ".py",
   "mimetype": "text/x-python",
   "name": "python",
   "nbconvert_exporter": "python",
   "pygments_lexer": "ipython3",
   "version": "3.8.8"
  },
  "varInspector": {
   "cols": {
    "lenName": 16,
    "lenType": 16,
    "lenVar": 40
   },
   "kernels_config": {
    "python": {
     "delete_cmd_postfix": "",
     "delete_cmd_prefix": "del ",
     "library": "var_list.py",
     "varRefreshCmd": "print(var_dic_list())"
    },
    "r": {
     "delete_cmd_postfix": ") ",
     "delete_cmd_prefix": "rm(",
     "library": "var_list.r",
     "varRefreshCmd": "cat(var_dic_list()) "
    }
   },
   "types_to_exclude": [
    "module",
    "function",
    "builtin_function_or_method",
    "instance",
    "_Feature"
   ],
   "window_display": false
  }
 },
 "nbformat": 4,
 "nbformat_minor": 5
}
